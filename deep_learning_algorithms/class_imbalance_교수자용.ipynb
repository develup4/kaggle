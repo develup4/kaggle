{
 "cells": [
  {
   "cell_type": "markdown",
   "metadata": {},
   "source": [
    "# Class Imbalance 실습"
   ]
  },
  {
   "cell_type": "markdown",
   "metadata": {},
   "source": [
    "## Classification (Recap)"
   ]
  },
  {
   "cell_type": "markdown",
   "metadata": {},
   "source": [
    "### Dataset Load - Abalone Dataset"
   ]
  },
  {
   "cell_type": "code",
   "execution_count": 1,
   "metadata": {},
   "outputs": [],
   "source": [
    "# imblearn 패키지로부터 abalone dataset을 불러오기\n",
    "\n",
    "from imblearn.datasets import fetch_datasets\n",
    "\n",
    "dataset_load = fetch_datasets()\n",
    "dataset = dataset_load['abalone']"
   ]
  },
  {
   "cell_type": "code",
   "execution_count": 2,
   "metadata": {},
   "outputs": [],
   "source": [
    "# # imblearn fetch_datasets 오류 시 사용\n",
    "# import pickle\n",
    "\n",
    "# with open('./abalone_dataset.npz', 'rb') as f:\n",
    "#     [dataset] = pickle.load(f)"
   ]
  },
  {
   "cell_type": "code",
   "execution_count": 3,
   "metadata": {},
   "outputs": [],
   "source": [
    "X, y = dataset.data, dataset.target"
   ]
  },
  {
   "cell_type": "code",
   "execution_count": 4,
   "metadata": {},
   "outputs": [
    {
     "name": "stdout",
     "output_type": "stream",
     "text": [
      "shape of X: (4177, 10)\n",
      "shape of y (4177,)\n",
      "y: [-1  1 -1 ... -1 -1 -1]\n"
     ]
    }
   ],
   "source": [
    "print('shape of X:', X.shape)\n",
    "print('shape of y', y.shape)\n",
    "print('y:', y)"
   ]
  },
  {
   "cell_type": "markdown",
   "metadata": {},
   "source": [
    "### Data Preprocessing - Data Split / Feature Scaling"
   ]
  },
  {
   "cell_type": "code",
   "execution_count": 5,
   "metadata": {},
   "outputs": [],
   "source": [
    "from sklearn.model_selection import train_test_split\n",
    "from sklearn.preprocessing import StandardScaler"
   ]
  },
  {
   "cell_type": "code",
   "execution_count": 6,
   "metadata": {},
   "outputs": [],
   "source": [
    "# 주어진 데이터셋을 train, test set으로 분할 (0.75 : 0.25)\n",
    "\n",
    "X_train, X_test, y_train, y_test = train_test_split(X, y, test_size=0.25, random_state = 0)"
   ]
  },
  {
   "cell_type": "code",
   "execution_count": 7,
   "metadata": {},
   "outputs": [],
   "source": [
    "# StandardScaler 이용한 feature scaling 적용\n",
    "\n",
    "scaler = StandardScaler()\n",
    "scaler.fit(X_train)\n",
    "X_train_scaled = scaler.transform(X_train)\n",
    "X_test_scaled = scaler.transform(X_test)"
   ]
  },
  {
   "cell_type": "markdown",
   "metadata": {},
   "source": [
    "### Model Training"
   ]
  },
  {
   "cell_type": "code",
   "execution_count": 8,
   "metadata": {},
   "outputs": [],
   "source": [
    "from sklearn.ensemble import RandomForestClassifier"
   ]
  },
  {
   "cell_type": "code",
   "execution_count": 9,
   "metadata": {},
   "outputs": [
    {
     "data": {
      "text/html": [
       "<style>#sk-container-id-1 {color: black;background-color: white;}#sk-container-id-1 pre{padding: 0;}#sk-container-id-1 div.sk-toggleable {background-color: white;}#sk-container-id-1 label.sk-toggleable__label {cursor: pointer;display: block;width: 100%;margin-bottom: 0;padding: 0.3em;box-sizing: border-box;text-align: center;}#sk-container-id-1 label.sk-toggleable__label-arrow:before {content: \"▸\";float: left;margin-right: 0.25em;color: #696969;}#sk-container-id-1 label.sk-toggleable__label-arrow:hover:before {color: black;}#sk-container-id-1 div.sk-estimator:hover label.sk-toggleable__label-arrow:before {color: black;}#sk-container-id-1 div.sk-toggleable__content {max-height: 0;max-width: 0;overflow: hidden;text-align: left;background-color: #f0f8ff;}#sk-container-id-1 div.sk-toggleable__content pre {margin: 0.2em;color: black;border-radius: 0.25em;background-color: #f0f8ff;}#sk-container-id-1 input.sk-toggleable__control:checked~div.sk-toggleable__content {max-height: 200px;max-width: 100%;overflow: auto;}#sk-container-id-1 input.sk-toggleable__control:checked~label.sk-toggleable__label-arrow:before {content: \"▾\";}#sk-container-id-1 div.sk-estimator input.sk-toggleable__control:checked~label.sk-toggleable__label {background-color: #d4ebff;}#sk-container-id-1 div.sk-label input.sk-toggleable__control:checked~label.sk-toggleable__label {background-color: #d4ebff;}#sk-container-id-1 input.sk-hidden--visually {border: 0;clip: rect(1px 1px 1px 1px);clip: rect(1px, 1px, 1px, 1px);height: 1px;margin: -1px;overflow: hidden;padding: 0;position: absolute;width: 1px;}#sk-container-id-1 div.sk-estimator {font-family: monospace;background-color: #f0f8ff;border: 1px dotted black;border-radius: 0.25em;box-sizing: border-box;margin-bottom: 0.5em;}#sk-container-id-1 div.sk-estimator:hover {background-color: #d4ebff;}#sk-container-id-1 div.sk-parallel-item::after {content: \"\";width: 100%;border-bottom: 1px solid gray;flex-grow: 1;}#sk-container-id-1 div.sk-label:hover label.sk-toggleable__label {background-color: #d4ebff;}#sk-container-id-1 div.sk-serial::before {content: \"\";position: absolute;border-left: 1px solid gray;box-sizing: border-box;top: 0;bottom: 0;left: 50%;z-index: 0;}#sk-container-id-1 div.sk-serial {display: flex;flex-direction: column;align-items: center;background-color: white;padding-right: 0.2em;padding-left: 0.2em;position: relative;}#sk-container-id-1 div.sk-item {position: relative;z-index: 1;}#sk-container-id-1 div.sk-parallel {display: flex;align-items: stretch;justify-content: center;background-color: white;position: relative;}#sk-container-id-1 div.sk-item::before, #sk-container-id-1 div.sk-parallel-item::before {content: \"\";position: absolute;border-left: 1px solid gray;box-sizing: border-box;top: 0;bottom: 0;left: 50%;z-index: -1;}#sk-container-id-1 div.sk-parallel-item {display: flex;flex-direction: column;z-index: 1;position: relative;background-color: white;}#sk-container-id-1 div.sk-parallel-item:first-child::after {align-self: flex-end;width: 50%;}#sk-container-id-1 div.sk-parallel-item:last-child::after {align-self: flex-start;width: 50%;}#sk-container-id-1 div.sk-parallel-item:only-child::after {width: 0;}#sk-container-id-1 div.sk-dashed-wrapped {border: 1px dashed gray;margin: 0 0.4em 0.5em 0.4em;box-sizing: border-box;padding-bottom: 0.4em;background-color: white;}#sk-container-id-1 div.sk-label label {font-family: monospace;font-weight: bold;display: inline-block;line-height: 1.2em;}#sk-container-id-1 div.sk-label-container {text-align: center;}#sk-container-id-1 div.sk-container {/* jupyter's `normalize.less` sets `[hidden] { display: none; }` but bootstrap.min.css set `[hidden] { display: none !important; }` so we also need the `!important` here to be able to override the default hidden behavior on the sphinx rendered scikit-learn.org. See: https://github.com/scikit-learn/scikit-learn/issues/21755 */display: inline-block !important;position: relative;}#sk-container-id-1 div.sk-text-repr-fallback {display: none;}</style><div id=\"sk-container-id-1\" class=\"sk-top-container\"><div class=\"sk-text-repr-fallback\"><pre>RandomForestClassifier()</pre><b>In a Jupyter environment, please rerun this cell to show the HTML representation or trust the notebook. <br />On GitHub, the HTML representation is unable to render, please try loading this page with nbviewer.org.</b></div><div class=\"sk-container\" hidden><div class=\"sk-item\"><div class=\"sk-estimator sk-toggleable\"><input class=\"sk-toggleable__control sk-hidden--visually\" id=\"sk-estimator-id-1\" type=\"checkbox\" checked><label for=\"sk-estimator-id-1\" class=\"sk-toggleable__label sk-toggleable__label-arrow\">RandomForestClassifier</label><div class=\"sk-toggleable__content\"><pre>RandomForestClassifier()</pre></div></div></div></div></div>"
      ],
      "text/plain": [
       "RandomForestClassifier()"
      ]
     },
     "execution_count": 9,
     "metadata": {},
     "output_type": "execute_result"
    }
   ],
   "source": [
    "# 분류 모델 구축을 위한 학습 알고리즘 선택 및 학습 (e.g. RandomForestClassifier)\n",
    "\n",
    "clf = RandomForestClassifier()\n",
    "clf.fit(X_train_scaled, y_train)"
   ]
  },
  {
   "cell_type": "markdown",
   "metadata": {},
   "source": [
    "### Inference"
   ]
  },
  {
   "cell_type": "code",
   "execution_count": 10,
   "metadata": {},
   "outputs": [],
   "source": [
    "# train, test set에 대해 예측 수행 및 결과 출력"
   ]
  },
  {
   "cell_type": "code",
   "execution_count": 11,
   "metadata": {},
   "outputs": [
    {
     "name": "stdout",
     "output_type": "stream",
     "text": [
      "ground truth of y_train: [ 1 -1 -1 ... -1 -1 -1]\n",
      "prediction result of y_train: [ 1 -1 -1 ... -1 -1 -1]\n"
     ]
    }
   ],
   "source": [
    "y_train_hat = clf.predict(X_train_scaled)\n",
    "print('ground truth of y_train:', y_train)\n",
    "print('prediction result of y_train:', y_train_hat)"
   ]
  },
  {
   "cell_type": "code",
   "execution_count": 12,
   "metadata": {},
   "outputs": [
    {
     "name": "stdout",
     "output_type": "stream",
     "text": [
      "ground truth of y_test: [-1 -1 -1 ... -1 -1 -1]\n",
      "prediction result of y_test: [-1 -1 -1 ... -1 -1 -1]\n"
     ]
    }
   ],
   "source": [
    "y_test_hat = clf.predict(X_test_scaled)\n",
    "print('ground truth of y_test:', y_test)\n",
    "print('prediction result of y_test:', y_test_hat)"
   ]
  },
  {
   "cell_type": "markdown",
   "metadata": {},
   "source": [
    "### Model Evaluation - Accuracy"
   ]
  },
  {
   "cell_type": "code",
   "execution_count": 13,
   "metadata": {},
   "outputs": [],
   "source": [
    "# accuracy 이용한 예측 성능 평가 (train, test 모두)"
   ]
  },
  {
   "cell_type": "code",
   "execution_count": 14,
   "metadata": {},
   "outputs": [],
   "source": [
    "from sklearn.metrics import accuracy_score"
   ]
  },
  {
   "cell_type": "code",
   "execution_count": 15,
   "metadata": {},
   "outputs": [
    {
     "name": "stdout",
     "output_type": "stream",
     "text": [
      "train_accuracy: 1.0\n"
     ]
    }
   ],
   "source": [
    "y_train_accuracy = accuracy_score(y_train, y_train_hat)\n",
    "print('train_accuracy:', y_train_accuracy)"
   ]
  },
  {
   "cell_type": "code",
   "execution_count": 16,
   "metadata": {},
   "outputs": [
    {
     "name": "stdout",
     "output_type": "stream",
     "text": [
      "test_accuracy: 0.8813397129186603\n"
     ]
    }
   ],
   "source": [
    "y_test_accuracy = accuracy_score(y_test, y_test_hat)\n",
    "print('test_accuracy:', y_test_accuracy)"
   ]
  },
  {
   "cell_type": "markdown",
   "metadata": {},
   "source": [
    "### Model Evaluation - Confusion Matrix"
   ]
  },
  {
   "cell_type": "code",
   "execution_count": 17,
   "metadata": {},
   "outputs": [],
   "source": [
    "# confusion matrix 이용한 예측 성능 평가 (train, test 모두)\n",
    "## ConfusionMatrixDisplay 활용하기"
   ]
  },
  {
   "cell_type": "code",
   "execution_count": 18,
   "metadata": {},
   "outputs": [],
   "source": [
    "from sklearn.metrics import confusion_matrix, ConfusionMatrixDisplay"
   ]
  },
  {
   "cell_type": "code",
   "execution_count": 19,
   "metadata": {},
   "outputs": [
    {
     "data": {
      "text/plain": [
       "<sklearn.metrics._plot.confusion_matrix.ConfusionMatrixDisplay at 0x1d0fe411340>"
      ]
     },
     "execution_count": 19,
     "metadata": {},
     "output_type": "execute_result"
    },
    {
     "data": {
      "image/png": "[encoded data removed]",
      "text/plain": [
       "<Figure size 640x480 with 2 Axes>"
      ]
     },
     "metadata": {},
     "output_type": "display_data"
    }
   ],
   "source": [
    "y_train_cm = confusion_matrix(y_train, y_train_hat)\n",
    "y_train_cm_dp = ConfusionMatrixDisplay(confusion_matrix = y_train_cm, display_labels=clf.classes_)\n",
    "y_train_cm_dp.plot()"
   ]
  },
  {
   "cell_type": "code",
   "execution_count": 20,
   "metadata": {},
   "outputs": [
    {
     "data": {
      "text/plain": [
       "<sklearn.metrics._plot.confusion_matrix.ConfusionMatrixDisplay at 0x1d08dc57970>"
      ]
     },
     "execution_count": 20,
     "metadata": {},
     "output_type": "execute_result"
    },
    {
     "data": {
      "image/png": "[encoded data removed]",
      "text/plain": [
       "<Figure size 640x480 with 2 Axes>"
      ]
     },
     "metadata": {},
     "output_type": "display_data"
    }
   ],
   "source": [
    "y_test_cm = confusion_matrix(y_test, y_test_hat)\n",
    "y_test_cm_dp = ConfusionMatrixDisplay(confusion_matrix = y_test_cm, display_labels=clf.classes_)\n",
    "y_test_cm_dp.plot()"
   ]
  },
  {
   "cell_type": "markdown",
   "metadata": {},
   "source": [
    "### Model Evaluation - F1 score, AUROC"
   ]
  },
  {
   "cell_type": "code",
   "execution_count": 21,
   "metadata": {},
   "outputs": [],
   "source": [
    "# f1 score, auroc 이용한 예측 성능 평가 후 accuracy 값과 비교"
   ]
  },
  {
   "cell_type": "code",
   "execution_count": 22,
   "metadata": {},
   "outputs": [],
   "source": [
    "from sklearn.metrics import f1_score, roc_auc_score"
   ]
  },
  {
   "cell_type": "code",
   "execution_count": 23,
   "metadata": {},
   "outputs": [
    {
     "name": "stdout",
     "output_type": "stream",
     "text": [
      "train_accuracy: 1.0\n",
      "train_f1: 1.0\n",
      "train_auroc: 1.0\n"
     ]
    }
   ],
   "source": [
    "y_train_f1 = f1_score(y_train, y_train_hat)\n",
    "y_train_auroc = roc_auc_score(y_train, y_train_hat)\n",
    "\n",
    "print('train_accuracy:', y_train_accuracy)\n",
    "print('train_f1:', y_train_f1)\n",
    "print('train_auroc:', y_train_auroc)"
   ]
  },
  {
   "cell_type": "code",
   "execution_count": 24,
   "metadata": {},
   "outputs": [
    {
     "name": "stdout",
     "output_type": "stream",
     "text": [
      "test_accuracy: 0.8813397129186603\n",
      "test_f1: 0.15068493150684933\n",
      "test_auroc: 0.536967418546366\n"
     ]
    }
   ],
   "source": [
    "y_test_f1 = f1_score(y_test, y_test_hat)\n",
    "y_test_auroc = roc_auc_score(y_test, y_test_hat)\n",
    "\n",
    "print('test_accuracy:', y_test_accuracy)\n",
    "print('test_f1:', y_test_f1)\n",
    "print('test_auroc:', y_test_auroc)"
   ]
  },
  {
   "cell_type": "markdown",
   "metadata": {},
   "source": [
    "## Handling class imbalance - Resampling"
   ]
  },
  {
   "cell_type": "markdown",
   "metadata": {},
   "source": [
    "### Dataset Load - Abalone Dataset"
   ]
  },
  {
   "cell_type": "code",
   "execution_count": 25,
   "metadata": {},
   "outputs": [],
   "source": [
    "from imblearn.datasets import fetch_datasets\n",
    "\n",
    "dataset_load = fetch_datasets()\n",
    "dataset = dataset_load['abalone']"
   ]
  },
  {
   "cell_type": "code",
   "execution_count": 26,
   "metadata": {},
   "outputs": [],
   "source": [
    "X, y = dataset.data, dataset.target"
   ]
  },
  {
   "cell_type": "code",
   "execution_count": 27,
   "metadata": {},
   "outputs": [
    {
     "name": "stdout",
     "output_type": "stream",
     "text": [
      "shape of X: (4177, 10)\n",
      "shape of y (4177,)\n",
      "y: [-1  1 -1 ... -1 -1 -1]\n"
     ]
    }
   ],
   "source": [
    "print('shape of X:', X.shape)\n",
    "print('shape of y', y.shape)\n",
    "print('y:', y)"
   ]
  },
  {
   "cell_type": "code",
   "execution_count": 28,
   "metadata": {},
   "outputs": [
    {
     "name": "stdout",
     "output_type": "stream",
     "text": [
      "number of instances in negative class 3786\n",
      "number of instances in positive class 391\n",
      "imbalance ratio -> 1 : 9.683\n"
     ]
    }
   ],
   "source": [
    "# 각 class 별 인스턴스 수 확인 및 class imbalance 비율 확인\n",
    "\n",
    "num_negative = (y<0).sum()\n",
    "num_positive = (y>0).sum()\n",
    "\n",
    "print('number of instances in negative class', num_negative)\n",
    "print('number of instances in positive class', num_positive)\n",
    "print('imbalance ratio -> 1 : %.3f'%(num_negative/num_positive))"
   ]
  },
  {
   "cell_type": "markdown",
   "metadata": {},
   "source": [
    "### Data Preprocessing - Data Split / Feature Scaling"
   ]
  },
  {
   "cell_type": "code",
   "execution_count": 29,
   "metadata": {},
   "outputs": [],
   "source": [
    "from sklearn.model_selection import train_test_split\n",
    "from sklearn.preprocessing import StandardScaler"
   ]
  },
  {
   "cell_type": "code",
   "execution_count": 30,
   "metadata": {},
   "outputs": [],
   "source": [
    "# 주어진 데이터셋을 train, test set으로 분할 (0.75 : 0.25) / Stratified Sampling 기반의 split 적용\n",
    "\n",
    "X_train, X_test, y_train, y_test = train_test_split(X, y, test_size=0.25, random_state = 0, stratify = y)"
   ]
  },
  {
   "cell_type": "code",
   "execution_count": 31,
   "metadata": {},
   "outputs": [],
   "source": [
    "# StandardScaler 이용한 feature scaling 적용\n",
    "\n",
    "scaler = StandardScaler()\n",
    "scaler.fit(X_train)\n",
    "X_train_scaled = scaler.transform(X_train)\n",
    "X_test_scaled = scaler.transform(X_test)"
   ]
  },
  {
   "cell_type": "markdown",
   "metadata": {},
   "source": [
    "### Data Preprocessing - Resampling"
   ]
  },
  {
   "cell_type": "code",
   "execution_count": 32,
   "metadata": {},
   "outputs": [],
   "source": [
    "from imblearn.over_sampling import RandomOverSampler, SMOTE, BorderlineSMOTE, ADASYN\n",
    "from imblearn.under_sampling import RandomUnderSampler, ClusterCentroids, TomekLinks, NearMiss, EditedNearestNeighbours\n",
    "from collections import Counter"
   ]
  },
  {
   "cell_type": "code",
   "execution_count": 33,
   "metadata": {},
   "outputs": [],
   "source": [
    "# imblearn 패키지로부터 resampler 불러온 후 resampling 적용\n",
    "## 위의 import된 class들로부터 원하는 resampler를 선택할 수 있음\n",
    "## TomekLinks, NearMiss, EditedNearestNeighbours의 경우 'random_state' argument 제거해야함\n",
    "## NearMiss의 경우 'version' argument를 이용하여 원하는 version을 선택할 수 있음"
   ]
  },
  {
   "cell_type": "code",
   "execution_count": 34,
   "metadata": {},
   "outputs": [],
   "source": [
    "resampler = RandomOverSampler(random_state=0)"
   ]
  },
  {
   "cell_type": "code",
   "execution_count": 35,
   "metadata": {},
   "outputs": [],
   "source": [
    "X_train_resampled, y_train_resampled = resampler.fit_resample(X_train_scaled, y_train)"
   ]
  },
  {
   "cell_type": "code",
   "execution_count": 36,
   "metadata": {},
   "outputs": [
    {
     "name": "stdout",
     "output_type": "stream",
     "text": [
      "shape of X_train before resampling: (3132, 10)\n",
      "shape of X_train after resampling: (5678, 10)\n"
     ]
    }
   ],
   "source": [
    "print('shape of X_train before resampling:', X_train_scaled.shape)\n",
    "print('shape of X_train after resampling:', X_train_resampled.shape)"
   ]
  },
  {
   "cell_type": "code",
   "execution_count": 37,
   "metadata": {},
   "outputs": [
    {
     "name": "stdout",
     "output_type": "stream",
     "text": [
      "Composition of y_train before resampling Counter({-1: 2839, 1: 293})\n",
      "Composition of y_train after resampling Counter({-1: 2839, 1: 2839})\n"
     ]
    }
   ],
   "source": [
    "print('Composition of y_train before resampling', Counter(y_train))\n",
    "print('Composition of y_train after resampling', Counter(y_train_resampled))"
   ]
  },
  {
   "cell_type": "markdown",
   "metadata": {},
   "source": [
    "### Model Training"
   ]
  },
  {
   "cell_type": "code",
   "execution_count": 38,
   "metadata": {},
   "outputs": [],
   "source": [
    "# 분류 모델 구축을 위한 학습 알고리즘 선택 및 학습 (e.g. RandomForestClassifier)\n",
    "## resampling 적용 전 후 각각에 대해 모델 구축 및 학습"
   ]
  },
  {
   "cell_type": "code",
   "execution_count": 39,
   "metadata": {},
   "outputs": [],
   "source": [
    "from sklearn.ensemble import RandomForestClassifier"
   ]
  },
  {
   "cell_type": "code",
   "execution_count": 40,
   "metadata": {},
   "outputs": [
    {
     "data": {
      "text/html": [
       "<style>#sk-container-id-2 {color: black;background-color: white;}#sk-container-id-2 pre{padding: 0;}#sk-container-id-2 div.sk-toggleable {background-color: white;}#sk-container-id-2 label.sk-toggleable__label {cursor: pointer;display: block;width: 100%;margin-bottom: 0;padding: 0.3em;box-sizing: border-box;text-align: center;}#sk-container-id-2 label.sk-toggleable__label-arrow:before {content: \"▸\";float: left;margin-right: 0.25em;color: #696969;}#sk-container-id-2 label.sk-toggleable__label-arrow:hover:before {color: black;}#sk-container-id-2 div.sk-estimator:hover label.sk-toggleable__label-arrow:before {color: black;}#sk-container-id-2 div.sk-toggleable__content {max-height: 0;max-width: 0;overflow: hidden;text-align: left;background-color: #f0f8ff;}#sk-container-id-2 div.sk-toggleable__content pre {margin: 0.2em;color: black;border-radius: 0.25em;background-color: #f0f8ff;}#sk-container-id-2 input.sk-toggleable__control:checked~div.sk-toggleable__content {max-height: 200px;max-width: 100%;overflow: auto;}#sk-container-id-2 input.sk-toggleable__control:checked~label.sk-toggleable__label-arrow:before {content: \"▾\";}#sk-container-id-2 div.sk-estimator input.sk-toggleable__control:checked~label.sk-toggleable__label {background-color: #d4ebff;}#sk-container-id-2 div.sk-label input.sk-toggleable__control:checked~label.sk-toggleable__label {background-color: #d4ebff;}#sk-container-id-2 input.sk-hidden--visually {border: 0;clip: rect(1px 1px 1px 1px);clip: rect(1px, 1px, 1px, 1px);height: 1px;margin: -1px;overflow: hidden;padding: 0;position: absolute;width: 1px;}#sk-container-id-2 div.sk-estimator {font-family: monospace;background-color: #f0f8ff;border: 1px dotted black;border-radius: 0.25em;box-sizing: border-box;margin-bottom: 0.5em;}#sk-container-id-2 div.sk-estimator:hover {background-color: #d4ebff;}#sk-container-id-2 div.sk-parallel-item::after {content: \"\";width: 100%;border-bottom: 1px solid gray;flex-grow: 1;}#sk-container-id-2 div.sk-label:hover label.sk-toggleable__label {background-color: #d4ebff;}#sk-container-id-2 div.sk-serial::before {content: \"\";position: absolute;border-left: 1px solid gray;box-sizing: border-box;top: 0;bottom: 0;left: 50%;z-index: 0;}#sk-container-id-2 div.sk-serial {display: flex;flex-direction: column;align-items: center;background-color: white;padding-right: 0.2em;padding-left: 0.2em;position: relative;}#sk-container-id-2 div.sk-item {position: relative;z-index: 1;}#sk-container-id-2 div.sk-parallel {display: flex;align-items: stretch;justify-content: center;background-color: white;position: relative;}#sk-container-id-2 div.sk-item::before, #sk-container-id-2 div.sk-parallel-item::before {content: \"\";position: absolute;border-left: 1px solid gray;box-sizing: border-box;top: 0;bottom: 0;left: 50%;z-index: -1;}#sk-container-id-2 div.sk-parallel-item {display: flex;flex-direction: column;z-index: 1;position: relative;background-color: white;}#sk-container-id-2 div.sk-parallel-item:first-child::after {align-self: flex-end;width: 50%;}#sk-container-id-2 div.sk-parallel-item:last-child::after {align-self: flex-start;width: 50%;}#sk-container-id-2 div.sk-parallel-item:only-child::after {width: 0;}#sk-container-id-2 div.sk-dashed-wrapped {border: 1px dashed gray;margin: 0 0.4em 0.5em 0.4em;box-sizing: border-box;padding-bottom: 0.4em;background-color: white;}#sk-container-id-2 div.sk-label label {font-family: monospace;font-weight: bold;display: inline-block;line-height: 1.2em;}#sk-container-id-2 div.sk-label-container {text-align: center;}#sk-container-id-2 div.sk-container {/* jupyter's `normalize.less` sets `[hidden] { display: none; }` but bootstrap.min.css set `[hidden] { display: none !important; }` so we also need the `!important` here to be able to override the default hidden behavior on the sphinx rendered scikit-learn.org. See: https://github.com/scikit-learn/scikit-learn/issues/21755 */display: inline-block !important;position: relative;}#sk-container-id-2 div.sk-text-repr-fallback {display: none;}</style><div id=\"sk-container-id-2\" class=\"sk-top-container\"><div class=\"sk-text-repr-fallback\"><pre>RandomForestClassifier(random_state=0)</pre><b>In a Jupyter environment, please rerun this cell to show the HTML representation or trust the notebook. <br />On GitHub, the HTML representation is unable to render, please try loading this page with nbviewer.org.</b></div><div class=\"sk-container\" hidden><div class=\"sk-item\"><div class=\"sk-estimator sk-toggleable\"><input class=\"sk-toggleable__control sk-hidden--visually\" id=\"sk-estimator-id-2\" type=\"checkbox\" checked><label for=\"sk-estimator-id-2\" class=\"sk-toggleable__label sk-toggleable__label-arrow\">RandomForestClassifier</label><div class=\"sk-toggleable__content\"><pre>RandomForestClassifier(random_state=0)</pre></div></div></div></div></div>"
      ],
      "text/plain": [
       "RandomForestClassifier(random_state=0)"
      ]
     },
     "execution_count": 40,
     "metadata": {},
     "output_type": "execute_result"
    }
   ],
   "source": [
    "clf_no_resampling = RandomForestClassifier(random_state=0)\n",
    "clf_no_resampling.fit(X_train_scaled, y_train)"
   ]
  },
  {
   "cell_type": "code",
   "execution_count": 41,
   "metadata": {},
   "outputs": [
    {
     "data": {
      "text/html": [
       "<style>#sk-container-id-3 {color: black;background-color: white;}#sk-container-id-3 pre{padding: 0;}#sk-container-id-3 div.sk-toggleable {background-color: white;}#sk-container-id-3 label.sk-toggleable__label {cursor: pointer;display: block;width: 100%;margin-bottom: 0;padding: 0.3em;box-sizing: border-box;text-align: center;}#sk-container-id-3 label.sk-toggleable__label-arrow:before {content: \"▸\";float: left;margin-right: 0.25em;color: #696969;}#sk-container-id-3 label.sk-toggleable__label-arrow:hover:before {color: black;}#sk-container-id-3 div.sk-estimator:hover label.sk-toggleable__label-arrow:before {color: black;}#sk-container-id-3 div.sk-toggleable__content {max-height: 0;max-width: 0;overflow: hidden;text-align: left;background-color: #f0f8ff;}#sk-container-id-3 div.sk-toggleable__content pre {margin: 0.2em;color: black;border-radius: 0.25em;background-color: #f0f8ff;}#sk-container-id-3 input.sk-toggleable__control:checked~div.sk-toggleable__content {max-height: 200px;max-width: 100%;overflow: auto;}#sk-container-id-3 input.sk-toggleable__control:checked~label.sk-toggleable__label-arrow:before {content: \"▾\";}#sk-container-id-3 div.sk-estimator input.sk-toggleable__control:checked~label.sk-toggleable__label {background-color: #d4ebff;}#sk-container-id-3 div.sk-label input.sk-toggleable__control:checked~label.sk-toggleable__label {background-color: #d4ebff;}#sk-container-id-3 input.sk-hidden--visually {border: 0;clip: rect(1px 1px 1px 1px);clip: rect(1px, 1px, 1px, 1px);height: 1px;margin: -1px;overflow: hidden;padding: 0;position: absolute;width: 1px;}#sk-container-id-3 div.sk-estimator {font-family: monospace;background-color: #f0f8ff;border: 1px dotted black;border-radius: 0.25em;box-sizing: border-box;margin-bottom: 0.5em;}#sk-container-id-3 div.sk-estimator:hover {background-color: #d4ebff;}#sk-container-id-3 div.sk-parallel-item::after {content: \"\";width: 100%;border-bottom: 1px solid gray;flex-grow: 1;}#sk-container-id-3 div.sk-label:hover label.sk-toggleable__label {background-color: #d4ebff;}#sk-container-id-3 div.sk-serial::before {content: \"\";position: absolute;border-left: 1px solid gray;box-sizing: border-box;top: 0;bottom: 0;left: 50%;z-index: 0;}#sk-container-id-3 div.sk-serial {display: flex;flex-direction: column;align-items: center;background-color: white;padding-right: 0.2em;padding-left: 0.2em;position: relative;}#sk-container-id-3 div.sk-item {position: relative;z-index: 1;}#sk-container-id-3 div.sk-parallel {display: flex;align-items: stretch;justify-content: center;background-color: white;position: relative;}#sk-container-id-3 div.sk-item::before, #sk-container-id-3 div.sk-parallel-item::before {content: \"\";position: absolute;border-left: 1px solid gray;box-sizing: border-box;top: 0;bottom: 0;left: 50%;z-index: -1;}#sk-container-id-3 div.sk-parallel-item {display: flex;flex-direction: column;z-index: 1;position: relative;background-color: white;}#sk-container-id-3 div.sk-parallel-item:first-child::after {align-self: flex-end;width: 50%;}#sk-container-id-3 div.sk-parallel-item:last-child::after {align-self: flex-start;width: 50%;}#sk-container-id-3 div.sk-parallel-item:only-child::after {width: 0;}#sk-container-id-3 div.sk-dashed-wrapped {border: 1px dashed gray;margin: 0 0.4em 0.5em 0.4em;box-sizing: border-box;padding-bottom: 0.4em;background-color: white;}#sk-container-id-3 div.sk-label label {font-family: monospace;font-weight: bold;display: inline-block;line-height: 1.2em;}#sk-container-id-3 div.sk-label-container {text-align: center;}#sk-container-id-3 div.sk-container {/* jupyter's `normalize.less` sets `[hidden] { display: none; }` but bootstrap.min.css set `[hidden] { display: none !important; }` so we also need the `!important` here to be able to override the default hidden behavior on the sphinx rendered scikit-learn.org. See: https://github.com/scikit-learn/scikit-learn/issues/21755 */display: inline-block !important;position: relative;}#sk-container-id-3 div.sk-text-repr-fallback {display: none;}</style><div id=\"sk-container-id-3\" class=\"sk-top-container\"><div class=\"sk-text-repr-fallback\"><pre>RandomForestClassifier()</pre><b>In a Jupyter environment, please rerun this cell to show the HTML representation or trust the notebook. <br />On GitHub, the HTML representation is unable to render, please try loading this page with nbviewer.org.</b></div><div class=\"sk-container\" hidden><div class=\"sk-item\"><div class=\"sk-estimator sk-toggleable\"><input class=\"sk-toggleable__control sk-hidden--visually\" id=\"sk-estimator-id-3\" type=\"checkbox\" checked><label for=\"sk-estimator-id-3\" class=\"sk-toggleable__label sk-toggleable__label-arrow\">RandomForestClassifier</label><div class=\"sk-toggleable__content\"><pre>RandomForestClassifier()</pre></div></div></div></div></div>"
      ],
      "text/plain": [
       "RandomForestClassifier()"
      ]
     },
     "execution_count": 41,
     "metadata": {},
     "output_type": "execute_result"
    }
   ],
   "source": [
    "clf_with_resampling = RandomForestClassifier()\n",
    "clf_with_resampling.fit(X_train_resampled, y_train_resampled)"
   ]
  },
  {
   "cell_type": "markdown",
   "metadata": {},
   "source": [
    "### Inference"
   ]
  },
  {
   "cell_type": "code",
   "execution_count": 42,
   "metadata": {},
   "outputs": [],
   "source": [
    "# test set에 대해 두 모델의 예측 수행\n",
    "\n",
    "y_test_hat_no_resampling = clf_no_resampling.predict(X_test_scaled)\n",
    "y_test_hat_with_resampling = clf_with_resampling.predict(X_test_scaled)"
   ]
  },
  {
   "cell_type": "markdown",
   "metadata": {},
   "source": [
    "### Model Evaluation"
   ]
  },
  {
   "cell_type": "code",
   "execution_count": 43,
   "metadata": {},
   "outputs": [],
   "source": [
    "# accuracy 기반 두 모델의 예측 성능 평가 후 비교"
   ]
  },
  {
   "cell_type": "code",
   "execution_count": 44,
   "metadata": {},
   "outputs": [],
   "source": [
    "from sklearn.metrics import accuracy_score, confusion_matrix, ConfusionMatrixDisplay, f1_score, roc_auc_score"
   ]
  },
  {
   "cell_type": "code",
   "execution_count": 45,
   "metadata": {},
   "outputs": [],
   "source": [
    "y_test_accuracy_no_resampling = accuracy_score(y_test, y_test_hat_no_resampling)\n",
    "y_test_accuracy_with_resampling = accuracy_score(y_test, y_test_hat_with_resampling)"
   ]
  },
  {
   "cell_type": "code",
   "execution_count": 46,
   "metadata": {},
   "outputs": [
    {
     "name": "stdout",
     "output_type": "stream",
     "text": [
      "test_accuracy without resampling: 0.9033492822966507\n",
      "test_accuracy with resampling: 0.8822966507177034\n"
     ]
    }
   ],
   "source": [
    "print('test_accuracy without resampling:', y_test_accuracy_no_resampling)\n",
    "print('test_accuracy with resampling:', y_test_accuracy_with_resampling)"
   ]
  },
  {
   "cell_type": "code",
   "execution_count": 47,
   "metadata": {},
   "outputs": [],
   "source": [
    "# confusion matrix 기반 두 모델의 예측 성능 평가 후 비교"
   ]
  },
  {
   "cell_type": "code",
   "execution_count": 48,
   "metadata": {},
   "outputs": [
    {
     "data": {
      "text/plain": [
       "<sklearn.metrics._plot.confusion_matrix.ConfusionMatrixDisplay at 0x1d08001d9d0>"
      ]
     },
     "execution_count": 48,
     "metadata": {},
     "output_type": "execute_result"
    },
    {
     "data": {
      "image/png": "[encoded data removed]",
      "text/plain": [
       "<Figure size 640x480 with 2 Axes>"
      ]
     },
     "metadata": {},
     "output_type": "display_data"
    }
   ],
   "source": [
    "y_test_cm_no_resampling = confusion_matrix(y_test, y_test_hat_no_resampling)\n",
    "y_test_cm_dp_no_resampling = ConfusionMatrixDisplay(confusion_matrix = y_test_cm_no_resampling, display_labels=clf.classes_)\n",
    "y_test_cm_dp_no_resampling.plot()"
   ]
  },
  {
   "cell_type": "code",
   "execution_count": 49,
   "metadata": {},
   "outputs": [
    {
     "data": {
      "text/plain": [
       "<sklearn.metrics._plot.confusion_matrix.ConfusionMatrixDisplay at 0x1d08dc73f70>"
      ]
     },
     "execution_count": 49,
     "metadata": {},
     "output_type": "execute_result"
    },
    {
     "data": {
      "image/png": "[encoded data removed]",
      "text/plain": [
       "<Figure size 640x480 with 2 Axes>"
      ]
     },
     "metadata": {},
     "output_type": "display_data"
    }
   ],
   "source": [
    "y_test_cm_with_resampling = confusion_matrix(y_test, y_test_hat_with_resampling)\n",
    "y_test_cm_dp_with_resampling = ConfusionMatrixDisplay(confusion_matrix = y_test_cm_with_resampling, display_labels=clf.classes_)\n",
    "y_test_cm_dp_with_resampling.plot()"
   ]
  },
  {
   "cell_type": "code",
   "execution_count": 50,
   "metadata": {},
   "outputs": [
    {
     "name": "stdout",
     "output_type": "stream",
     "text": [
      "test_f1_score without resampling: 0.1788617886178862\n",
      "test_f1_score with resampling: 0.2360248447204969\n"
     ]
    }
   ],
   "source": [
    "# f1 score 기반 두 모델의 예측 성능 평가 후 비교\n",
    "\n",
    "y_test_f1_no_resampling = f1_score(y_test, y_test_hat_no_resampling)\n",
    "y_test_f1_with_resampling = f1_score(y_test, y_test_hat_with_resampling)\n",
    "\n",
    "print('test_f1_score without resampling:', y_test_f1_no_resampling)\n",
    "print('test_f1_score with resampling:', y_test_f1_with_resampling)"
   ]
  },
  {
   "cell_type": "code",
   "execution_count": 51,
   "metadata": {},
   "outputs": [
    {
     "name": "stdout",
     "output_type": "stream",
     "text": [
      "test_AUROC without resampling: 0.5487306855160227\n",
      "test_AUROC with resampling: 0.5737075189104152\n"
     ]
    }
   ],
   "source": [
    "# auroc 기반 두 모델의 예측 성능 평가 후 비교\n",
    "\n",
    "y_test_auroc_no_resampling = roc_auc_score(y_test, y_test_hat_no_resampling)\n",
    "y_test_auroc_with_resampling = roc_auc_score(y_test, y_test_hat_with_resampling)\n",
    "\n",
    "print('test_AUROC without resampling:', y_test_auroc_no_resampling)\n",
    "print('test_AUROC with resampling:', y_test_auroc_with_resampling)"
   ]
  },
  {
   "cell_type": "markdown",
   "metadata": {},
   "source": [
    "### Let's compare performance of resampling methods!"
   ]
  },
  {
   "cell_type": "code",
   "execution_count": 52,
   "metadata": {},
   "outputs": [
    {
     "name": "stdout",
     "output_type": "stream",
     "text": [
      "shape of X: (4177, 10)\n",
      "shape of y (4177,)\n",
      "y: [-1  1 -1 ... -1 -1 -1]\n",
      "number of instances in negative class 3786\n",
      "number of instances in positive class 391\n",
      "imbalance ratio -> 1 : 9.683\n"
     ]
    }
   ],
   "source": [
    "dataset = dataset_load['abalone']\n",
    "X, y = dataset.data, dataset.target\n",
    "print('shape of X:', X.shape)\n",
    "print('shape of y', y.shape)\n",
    "print('y:', y)\n",
    "\n",
    "num_negative = (y<0).sum()\n",
    "num_positive = (y>0).sum()\n",
    "\n",
    "print('number of instances in negative class', num_negative)\n",
    "print('number of instances in positive class', num_positive)\n",
    "print('imbalance ratio -> 1 : %.3f'%(num_negative/num_positive))\n",
    "\n",
    "X_train, X_test, y_train, y_test = train_test_split(X, y, test_size=0.25, random_state = 0, stratify = y)\n",
    "\n",
    "scaler = StandardScaler()\n",
    "scaler.fit(X_train)\n",
    "X_train_scaled = scaler.transform(X_train)\n",
    "X_test_scaled = scaler.transform(X_test)"
   ]
  },
  {
   "cell_type": "code",
   "execution_count": 53,
   "metadata": {},
   "outputs": [],
   "source": [
    "resampler_list = ['No Resampling',\n",
    "                  'RandomOverSampler', 'SMOTE', 'BorderlineSMOTE', 'ADASYN',\n",
    "                  'RandomUnderSampler', 'ClusterCentroids', 'TomekLinks', 'NearMiss-1', 'NearMiss-2', 'NearMiss-3', 'EditedNearestNeighbours']"
   ]
  },
  {
   "cell_type": "code",
   "execution_count": 54,
   "metadata": {},
   "outputs": [],
   "source": [
    "accuracy_list, f1_list, auroc_list = [], [], []"
   ]
  },
  {
   "cell_type": "code",
   "execution_count": 55,
   "metadata": {},
   "outputs": [
    {
     "name": "stderr",
     "output_type": "stream",
     "text": [
      "c:\\Users\\user\\Anaconda3\\envs\\fastcampus_torch\\lib\\site-packages\\sklearn\\cluster\\_kmeans.py:870: FutureWarning: The default value of `n_init` will change from 10 to 'auto' in 1.4. Set the value of `n_init` explicitly to suppress the warning\n",
      "  warnings.warn(\n"
     ]
    }
   ],
   "source": [
    "# for문 이용하여 각 방법별 예측 결과를 위의 list에 입력\n",
    "\n",
    "for method in resampler_list:\n",
    "    if method == 'No Resampling':\n",
    "        X_train_resampled, y_train_resampled = X_train_scaled, y_train\n",
    "    \n",
    "    else:\n",
    "        # Oversampling Methods\n",
    "        if method == 'RandomOverSampler': resampler = RandomOverSampler(random_state=0)\n",
    "        elif method == 'SMOTE': resampler = SMOTE(random_state=0)\n",
    "        elif method == 'BorderlineSMOTE': resampler = BorderlineSMOTE(random_state=0)\n",
    "        elif method == 'ADASYN': resampler = ADASYN(random_state=0)\n",
    "\n",
    "        #Undersampling Methods\n",
    "        elif method == 'RandomUnderSampler': resampler = RandomUnderSampler(random_state=0)\n",
    "        elif method == 'ClusterCentroids': resampler = ClusterCentroids(random_state=0)\n",
    "        elif method == 'TomekLinks': resampler = TomekLinks()\n",
    "        elif method == 'NearMiss-1': resampler = NearMiss(version=1)\n",
    "        elif method == 'NearMiss-2': resampler = NearMiss(version=2)\n",
    "        elif method == 'NearMiss-3': resampler = NearMiss(version=3)\n",
    "        elif method == 'EditedNearestNeighbours': resampler = EditedNearestNeighbours()  \n",
    "    \n",
    "    \n",
    "        X_train_resampled, y_train_resampled = resampler.fit_resample(X_train_scaled, y_train)\n",
    "\n",
    "    \n",
    "    clf = RandomForestClassifier(random_state=0)\n",
    "    clf.fit(X_train_resampled, y_train_resampled)\n",
    "\n",
    "    y_test_hat = clf.predict(X_test_scaled)\n",
    "\n",
    "\n",
    "    accuracy = accuracy_score(y_test, y_test_hat)\n",
    "    f1= f1_score(y_test, y_test_hat)\n",
    "    auroc = roc_auc_score(y_test, y_test_hat)\n",
    "\n",
    "    accuracy_list.append(accuracy)\n",
    "    f1_list.append(f1)\n",
    "    auroc_list.append(auroc)"
   ]
  },
  {
   "cell_type": "code",
   "execution_count": 56,
   "metadata": {},
   "outputs": [],
   "source": [
    "import pandas as pd\n",
    "import numpy as np"
   ]
  },
  {
   "cell_type": "code",
   "execution_count": 57,
   "metadata": {},
   "outputs": [],
   "source": [
    "res_df = pd.DataFrame(data = np.vstack([accuracy_list, f1_list, auroc_list]), columns=resampler_list, index=['accuracy', 'f1 score', 'auroc'])"
   ]
  },
  {
   "cell_type": "code",
   "execution_count": 58,
   "metadata": {},
   "outputs": [
    {
     "data": {
      "text/html": [
       "<div>\n",
       "<style scoped>\n",
       "    .dataframe tbody tr th:only-of-type {\n",
       "        vertical-align: middle;\n",
       "    }\n",
       "\n",
       "    .dataframe tbody tr th {\n",
       "        vertical-align: top;\n",
       "    }\n",
       "\n",
       "    .dataframe thead th {\n",
       "        text-align: right;\n",
       "    }\n",
       "</style>\n",
       "<table border=\"1\" class=\"dataframe\">\n",
       "  <thead>\n",
       "    <tr style=\"text-align: right;\">\n",
       "      <th></th>\n",
       "      <th>No Resampling</th>\n",
       "      <th>RandomOverSampler</th>\n",
       "      <th>SMOTE</th>\n",
       "      <th>BorderlineSMOTE</th>\n",
       "      <th>ADASYN</th>\n",
       "      <th>RandomUnderSampler</th>\n",
       "      <th>ClusterCentroids</th>\n",
       "      <th>TomekLinks</th>\n",
       "      <th>NearMiss-1</th>\n",
       "      <th>NearMiss-2</th>\n",
       "      <th>NearMiss-3</th>\n",
       "      <th>EditedNearestNeighbours</th>\n",
       "    </tr>\n",
       "  </thead>\n",
       "  <tbody>\n",
       "    <tr>\n",
       "      <th>accuracy</th>\n",
       "      <td>0.903349</td>\n",
       "      <td>0.887081</td>\n",
       "      <td>0.868900</td>\n",
       "      <td>0.858373</td>\n",
       "      <td>0.871770</td>\n",
       "      <td>0.753110</td>\n",
       "      <td>0.720574</td>\n",
       "      <td>0.887081</td>\n",
       "      <td>0.156938</td>\n",
       "      <td>0.217225</td>\n",
       "      <td>0.817225</td>\n",
       "      <td>0.860287</td>\n",
       "    </tr>\n",
       "    <tr>\n",
       "      <th>f1 score</th>\n",
       "      <td>0.178862</td>\n",
       "      <td>0.280488</td>\n",
       "      <td>0.380090</td>\n",
       "      <td>0.333333</td>\n",
       "      <td>0.401786</td>\n",
       "      <td>0.391509</td>\n",
       "      <td>0.378723</td>\n",
       "      <td>0.191781</td>\n",
       "      <td>0.114573</td>\n",
       "      <td>0.168699</td>\n",
       "      <td>0.377850</td>\n",
       "      <td>0.438462</td>\n",
       "    </tr>\n",
       "    <tr>\n",
       "      <th>auroc</th>\n",
       "      <td>0.548731</td>\n",
       "      <td>0.594644</td>\n",
       "      <td>0.671519</td>\n",
       "      <td>0.642841</td>\n",
       "      <td>0.686825</td>\n",
       "      <td>0.795169</td>\n",
       "      <td>0.804662</td>\n",
       "      <td>0.553477</td>\n",
       "      <td>0.347311</td>\n",
       "      <td>0.499499</td>\n",
       "      <td>0.716193</td>\n",
       "      <td>0.735378</td>\n",
       "    </tr>\n",
       "  </tbody>\n",
       "</table>\n",
       "</div>"
      ],
      "text/plain": [
       "          No Resampling  RandomOverSampler     SMOTE  BorderlineSMOTE  \\\n",
       "accuracy       0.903349           0.887081  0.868900         0.858373   \n",
       "f1 score       0.178862           0.280488  0.380090         0.333333   \n",
       "auroc          0.548731           0.594644  0.671519         0.642841   \n",
       "\n",
       "            ADASYN  RandomUnderSampler  ClusterCentroids  TomekLinks  \\\n",
       "accuracy  0.871770            0.753110          0.720574    0.887081   \n",
       "f1 score  0.401786            0.391509          0.378723    0.191781   \n",
       "auroc     0.686825            0.795169          0.804662    0.553477   \n",
       "\n",
       "          NearMiss-1  NearMiss-2  NearMiss-3  EditedNearestNeighbours  \n",
       "accuracy    0.156938    0.217225    0.817225                 0.860287  \n",
       "f1 score    0.114573    0.168699    0.377850                 0.438462  \n",
       "auroc       0.347311    0.499499    0.716193                 0.735378  "
      ]
     },
     "metadata": {},
     "output_type": "display_data"
    }
   ],
   "source": [
    "display(res_df)"
   ]
  },
  {
   "cell_type": "code",
   "execution_count": 59,
   "metadata": {},
   "outputs": [],
   "source": [
    "# Best resampler 선택 후 다시 모델 구축 및 학습하여 confusion matrix 확인"
   ]
  },
  {
   "cell_type": "code",
   "execution_count": 60,
   "metadata": {},
   "outputs": [],
   "source": [
    "resampler = EditedNearestNeighbours()\n",
    "X_train_resampled, y_train_resampled = resampler.fit_resample(X_train_scaled, y_train)\n",
    "\n",
    "clf = RandomForestClassifier(random_state=0)\n",
    "clf.fit(X_train_resampled, y_train_resampled)\n",
    "\n",
    "y_test_hat = clf.predict(X_test_scaled)"
   ]
  },
  {
   "cell_type": "code",
   "execution_count": 61,
   "metadata": {},
   "outputs": [
    {
     "data": {
      "text/plain": [
       "<sklearn.metrics._plot.confusion_matrix.ConfusionMatrixDisplay at 0x1d081122670>"
      ]
     },
     "execution_count": 61,
     "metadata": {},
     "output_type": "execute_result"
    },
    {
     "data": {
      "image/png": "[encoded data removed]",
      "text/plain": [
       "<Figure size 640x480 with 2 Axes>"
      ]
     },
     "metadata": {},
     "output_type": "display_data"
    }
   ],
   "source": [
    "y_test_cm = confusion_matrix(y_test, y_test_hat)\n",
    "y_test_cm_dp = ConfusionMatrixDisplay(confusion_matrix = y_test_cm, display_labels=clf.classes_)\n",
    "y_test_cm_dp.plot()"
   ]
  }
 ],
 "metadata": {
  "kernelspec": {
   "display_name": "fastcampus_torch",
   "language": "python",
   "name": "python3"
  },
  "language_info": {
   "codemirror_mode": {
    "name": "ipython",
    "version": 3
   },
   "file_extension": ".py",
   "mimetype": "text/x-python",
   "name": "python",
   "nbconvert_exporter": "python",
   "pygments_lexer": "ipython3",
   "version": "3.8.16"
  },
  "orig_nbformat": 4
 },
 "nbformat": 4,
 "nbformat_minor": 2
}
