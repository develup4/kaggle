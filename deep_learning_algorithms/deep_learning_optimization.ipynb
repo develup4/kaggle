{
 "cells": [
  {
   "cell_type": "markdown",
   "metadata": {},
   "source": [
    "# 딥러닝 활용 연습"
   ]
  },
  {
   "cell_type": "code",
   "execution_count": 1,
   "metadata": {},
   "outputs": [],
   "source": [
    "import numpy as np\n",
    "import torch\n",
    "import torch.nn as nn\n",
    "from torch.utils.data import DataLoader, random_split\n",
    "from torchvision import datasets\n",
    "from torchvision.transforms import ToTensor\n",
    "from IPython.display import Image\n",
    "import matplotlib.pyplot as plt"
   ]
  },
  {
   "cell_type": "code",
   "execution_count": 2,
   "metadata": {},
   "outputs": [],
   "source": [
    "# Hyperparameters\n",
    "input_size = 28 * 28\n",
    "hidden_size = 512\n",
    "num_classes = 10\n",
    "num_epochs = 5\n",
    "batch_size = 64\n",
    "learning_rate = 0.001"
   ]
  },
  {
   "cell_type": "code",
   "execution_count": 3,
   "metadata": {},
   "outputs": [
    {
     "data": {
      "text/plain": [
       "device(type='cpu')"
      ]
     },
     "execution_count": 3,
     "metadata": {},
     "output_type": "execute_result"
    }
   ],
   "source": [
    "# Device configuration\n",
    "device = torch.device('cuda' if torch.cuda.is_available() else 'cpu')\n",
    "device"
   ]
  },
  {
   "cell_type": "code",
   "execution_count": 4,
   "metadata": {},
   "outputs": [],
   "source": [
    "# 데이터셋 다운로드\n",
    "\n",
    "train_data = datasets.MNIST(\n",
    "    root=\"data\",\n",
    "    train=True,\n",
    "    download=True,\n",
    "    transform=ToTensor()\n",
    ")\n",
    "\n",
    "test_data = datasets.MNIST(\n",
    "    root=\"data\",\n",
    "    train=False,\n",
    "    download=True,\n",
    "    transform=ToTensor()\n",
    ")"
   ]
  },
  {
   "cell_type": "code",
   "execution_count": 5,
   "metadata": {},
   "outputs": [
    {
     "data": {
      "text/plain": [
       "Dataset MNIST\n",
       "    Number of datapoints: 60000\n",
       "    Root location: data\n",
       "    Split: Train\n",
       "    StandardTransform\n",
       "Transform: ToTensor()"
      ]
     },
     "execution_count": 5,
     "metadata": {},
     "output_type": "execute_result"
    }
   ],
   "source": [
    "train_data"
   ]
  },
  {
   "cell_type": "code",
   "execution_count": 6,
   "metadata": {},
   "outputs": [],
   "source": [
    "# 빠른 실험을 위해 데이터셋의 일부만 사용 (train set에서 10%만 사용)\n",
    "train_data, _ = torch.utils.data.random_split(train_data, [6000, 54000])"
   ]
  },
  {
   "cell_type": "code",
   "execution_count": 7,
   "metadata": {},
   "outputs": [],
   "source": [
    "# validation set 분리\n",
    "train_size = int(0.8 * len(train_data))\n",
    "val_size = len(train_data) - train_size\n",
    "train_data, val_data = torch.utils.data.random_split(train_data, [train_size, val_size])"
   ]
  },
  {
   "cell_type": "code",
   "execution_count": 8,
   "metadata": {},
   "outputs": [
    {
     "data": {
      "text/plain": [
       "(4800, 1200, 10000)"
      ]
     },
     "execution_count": 8,
     "metadata": {},
     "output_type": "execute_result"
    }
   ],
   "source": [
    "len(train_data), len(val_data), len(test_data)"
   ]
  },
  {
   "cell_type": "code",
   "execution_count": 9,
   "metadata": {},
   "outputs": [],
   "source": [
    "# Train, Validation, Test DataLoader 생성\n",
    "train_dataloader = DataLoader(train_data, batch_size=batch_size, shuffle=True)\n",
    "val_dataloader = DataLoader(val_data, batch_size=batch_size, shuffle=False)\n",
    "test_dataloader = DataLoader(test_data, batch_size=batch_size, shuffle=False)"
   ]
  },
  {
   "cell_type": "code",
   "execution_count": 10,
   "metadata": {},
   "outputs": [],
   "source": [
    "# define simple FNN\n",
    "class FNN(nn.Module):\n",
    "    def __init__(self, input_size, hidden_size, num_classes):\n",
    "        super(FNN, self).__init__()\n",
    "        self.fc1 = nn.Linear(input_size, hidden_size) \n",
    "        self.relu = nn.ReLU()\n",
    "        self.fc2 = nn.Linear(hidden_size, num_classes)\n",
    "        self.flatten = nn.Flatten()\n",
    "\n",
    "    def forward(self, x):\n",
    "        x = self.flatten(x)\n",
    "        out = self.fc1(x)\n",
    "        out = self.relu(out)\n",
    "        out = self.fc2(out)\n",
    "        return out"
   ]
  },
  {
   "cell_type": "code",
   "execution_count": 11,
   "metadata": {},
   "outputs": [],
   "source": [
    "model = FNN(input_size=input_size, hidden_size=hidden_size, num_classes=num_classes)"
   ]
  },
  {
   "cell_type": "code",
   "execution_count": 12,
   "metadata": {},
   "outputs": [
    {
     "data": {
      "image/png": "[encoded data removed]",
      "text/plain": [
       "<Figure size 640x480 with 1 Axes>"
      ]
     },
     "metadata": {},
     "output_type": "display_data"
    }
   ],
   "source": [
    "w1 = model.fc1.weight.detach().numpy().flatten()\n",
    "plt.hist(w1, bins=100)\n",
    "plt.show()\n",
    "# Pytorch Linear layer's default initialization: He (Kaiming) uniform initialization"
   ]
  },
  {
   "cell_type": "markdown",
   "metadata": {},
   "source": [
    "# 딥러닝의 Hyperparameters"
   ]
  },
  {
   "cell_type": "markdown",
   "metadata": {},
   "source": [
    "## Modifying the network (weight initialization, activation function)"
   ]
  },
  {
   "cell_type": "code",
   "execution_count": 13,
   "metadata": {},
   "outputs": [],
   "source": [
    "# modify FNN with weight initialization (Xavier (uniform)) and activation function (Tanh)\n",
    "\n",
    "class FNN_Xavier(nn.Module):\n",
    "    def __init__(self, input_size, hidden_size, num_classes):\n",
    "        super(FNN_Xavier, self).__init__()\n",
    "        self.fc1 = nn.Linear(input_size, hidden_size)\n",
    "        self.tanh = nn.Tanh()\n",
    "        self.fc2 = nn.Linear(hidden_size, num_classes)\n",
    "        self.flatten = nn.Flatten()\n",
    "\n",
    "        ########################################################\n",
    "        # weight initialization (Kaiming normal)\n",
    "        nn.init.kaiming_normal_(self.fc1.weight)\n",
    "        nn.init.kaiming_normal_(self.fc2.weight)\n",
    "        ########################################################\n",
    "\n",
    "    def forward(self, x):\n",
    "        x = self.flatten(x)\n",
    "        out = self.fc1(x)\n",
    "        out = self.tanh(out)\n",
    "        out = self.fc2(out)\n",
    "        return out"
   ]
  },
  {
   "cell_type": "code",
   "execution_count": 14,
   "metadata": {},
   "outputs": [],
   "source": [
    "model = FNN_Xavier(input_size=input_size, hidden_size=hidden_size, num_classes=num_classes)"
   ]
  },
  {
   "cell_type": "code",
   "execution_count": 15,
   "metadata": {},
   "outputs": [
    {
     "data": {
      "image/png": "[encoded data removed]",
      "text/plain": [
       "<Figure size 640x480 with 1 Axes>"
      ]
     },
     "metadata": {},
     "output_type": "display_data"
    }
   ],
   "source": [
    "# get linear layer's weights\n",
    "w1 = model.fc1.weight.detach().numpy().flatten()\n",
    "plt.hist(w1, bins=100)\n",
    "plt.show()"
   ]
  },
  {
   "cell_type": "markdown",
   "metadata": {},
   "source": [
    "## Optimizer"
   ]
  },
  {
   "cell_type": "markdown",
   "metadata": {},
   "source": [
    "- 다양한 optimizer를 사용하여 학습 속도를 비교해보자."
   ]
  },
  {
   "cell_type": "code",
   "execution_count": 16,
   "metadata": {},
   "outputs": [],
   "source": [
    "# SGD\n",
    "optimizer = torch.optim.SGD(model.parameters(), lr=learning_rate)\n",
    "\n",
    "# RMSprop\n",
    "optimizer = torch.optim.RMSprop(model.parameters(), lr=learning_rate)\n",
    "\n",
    "# Adam\n",
    "optimizer = torch.optim.Adam(model.parameters(), lr=learning_rate)"
   ]
  },
  {
   "cell_type": "markdown",
   "metadata": {},
   "source": [
    "## Loss Function"
   ]
  },
  {
   "cell_type": "markdown",
   "metadata": {},
   "source": [
    "- Task에 따라 다른 loss function을 사용해보자."
   ]
  },
  {
   "cell_type": "code",
   "execution_count": 17,
   "metadata": {},
   "outputs": [],
   "source": [
    "# Classification Loss\n",
    "\n",
    "## Cross Entropy Loss (Multi-class classification)\n",
    "loss_fn = nn.CrossEntropyLoss()\n",
    "\n",
    "## Binary Cross Entropy Loss (Binary classification)\n",
    "loss_fn = nn.BCELoss()\n",
    "\n",
    "\n",
    "# Regression Loss\n",
    "\n",
    "## Mean Squared Error Loss\n",
    "loss_fn = nn.MSELoss()\n",
    "\n",
    "## Mean Absolute Error Loss\n",
    "loss_fn = nn.L1Loss() # not recommended for regression because of its non-convexity\n"
   ]
  },
  {
   "cell_type": "markdown",
   "metadata": {},
   "source": [
    "# Regularization"
   ]
  },
  {
   "cell_type": "markdown",
   "metadata": {},
   "source": [
    "## Learning curve"
   ]
  },
  {
   "cell_type": "markdown",
   "metadata": {},
   "source": [
    "- Learning Curve를 통해 overfitting을 확인해보자."
   ]
  },
  {
   "cell_type": "markdown",
   "metadata": {},
   "source": [
    "- 우선 앞서 배운 Train Loop와 Validation Loop를 함수화하여 사용해보자."
   ]
  },
  {
   "cell_type": "code",
   "execution_count": 18,
   "metadata": {},
   "outputs": [],
   "source": [
    "#######################################################\n",
    "# Train Loop\n",
    "def train_loop(dataloader, model, loss_fn, optimizer, device):\n",
    "    # 모델을 train 모드로 설정\n",
    "    model.train()\n",
    "    # 초기 loss 값을 0으로 설정\n",
    "    total_loss = 0\n",
    "    for X, y in dataloader:\n",
    "        # Forward pass\n",
    "        pred = model(X.to(device))\n",
    "        # Loss 계산\n",
    "        loss = loss_fn(pred, y.to(device))\n",
    "\n",
    "        # Reset gradients\n",
    "        optimizer.zero_grad()\n",
    "        # Backward pass\n",
    "        loss.backward()\n",
    "        # Update parameters\n",
    "        optimizer.step()\n",
    "\n",
    "        # Loss 값 누적\n",
    "        total_loss += loss.item()\n",
    "    # 평균 loss 값 계산\n",
    "    train_loss = total_loss / len(dataloader)\n",
    "\n",
    "    # 평균 loss 값 반환\n",
    "    return train_loss\n",
    "#######################################################\n"
   ]
  },
  {
   "cell_type": "code",
   "execution_count": 19,
   "metadata": {},
   "outputs": [],
   "source": [
    "def test_loop(dataloader, model, loss_fn, device):\n",
    "    # 초기 loss 값과 정답 개수를 0으로 설정\n",
    "    total_loss, correct = 0, 0\n",
    "    model.eval() # 모델을 evaluation 모드로 설정\n",
    "    with torch.no_grad(): # Gradient 계산을 하지 않음\n",
    "        for X, y in dataloader:\n",
    "            # Forward pass\n",
    "            pred = model(X.to(device))\n",
    "            # Loss 계산\n",
    "            total_loss += loss_fn(pred, y.to(device)).item()\n",
    "            # 정답 개수 계산\n",
    "            correct += (pred.argmax(1) == y.to(device)).type(torch.float).sum().item()\n",
    "            \n",
    "    # 평균 loss 값 계산\n",
    "    test_loss = total_loss / len(dataloader)\n",
    "    # 정확도 계산\n",
    "    correct /= len(dataloader.dataset)\n",
    "    return test_loss, correct"
   ]
  },
  {
   "cell_type": "code",
   "execution_count": 20,
   "metadata": {},
   "outputs": [
    {
     "name": "stdout",
     "output_type": "stream",
     "text": [
      "Epoch:  0, Train loss: 0.7849, Validation loss: 0.3668, Validation accuracy: 0.8925\n",
      "Epoch:  5, Train loss: 0.1137, Validation loss: 0.2137, Validation accuracy: 0.9358\n",
      "Epoch: 10, Train loss: 0.0324, Validation loss: 0.1876, Validation accuracy: 0.9467\n",
      "Epoch: 15, Train loss: 0.0093, Validation loss: 0.1907, Validation accuracy: 0.9458\n",
      "Epoch: 20, Train loss: 0.0043, Validation loss: 0.1987, Validation accuracy: 0.9442\n",
      "Epoch: 25, Train loss: 0.0025, Validation loss: 0.1996, Validation accuracy: 0.9425\n",
      "Epoch: 30, Train loss: 0.0016, Validation loss: 0.2076, Validation accuracy: 0.9425\n",
      "Epoch: 35, Train loss: 0.0011, Validation loss: 0.2110, Validation accuracy: 0.9442\n",
      "Epoch: 40, Train loss: 0.0008, Validation loss: 0.2176, Validation accuracy: 0.9458\n",
      "Epoch: 45, Train loss: 0.0006, Validation loss: 0.2230, Validation accuracy: 0.9450\n",
      "Done!\n"
     ]
    }
   ],
   "source": [
    "# Training\n",
    "\n",
    "# 모델 정의\n",
    "model = FNN(input_size=input_size, hidden_size=hidden_size, num_classes=num_classes).to(device)\n",
    "\n",
    "# Optimizer, Loss function 정의 (Optimizer: Adam, Loss function: Cross Entropy Loss)\n",
    "optimizer = torch.optim.Adam(model.parameters(), lr=learning_rate)\n",
    "loss_fn = nn.CrossEntropyLoss()\n",
    "\n",
    "epochs = 50\n",
    "# Learning Curve를 그리기 위한 로그 리스트\n",
    "train_log = []\n",
    "val_log = []\n",
    "for t in range(epochs):\n",
    "    # Train Loop\n",
    "    train_loss = train_loop(train_dataloader, model, loss_fn, optimizer, device)\n",
    "    # Validation Loop\n",
    "    val_loss, val_acc = test_loop(val_dataloader, model, loss_fn, device)\n",
    "    # 로그 출력\n",
    "    if t % 5 == 0:\n",
    "        print(f\"Epoch: {t:2d}, Train loss: {train_loss:.4f}, Validation loss: {val_loss:.4f}, Validation accuracy: {val_acc:.4f}\")\n",
    "    # 로그 리스트에 저장 (Training loss, Validation loss)\n",
    "    train_log.append(train_loss)\n",
    "    val_log.append(val_loss)\n",
    "print(\"Done!\")"
   ]
  },
  {
   "cell_type": "code",
   "execution_count": 22,
   "metadata": {},
   "outputs": [
    {
     "data": {
      "image/png": "[encoded data removed]",
      "text/plain": [
       "<Figure size 640x480 with 1 Axes>"
      ]
     },
     "metadata": {},
     "output_type": "display_data"
    }
   ],
   "source": [
    "# Learning Curve\n",
    "# plot train and validation loss\n",
    "plt.plot(train_log, label='Train Loss')\n",
    "plt.plot(val_log, label='Validation Loss')\n",
    "\n",
    "# vertical line for lowest validation loss\n",
    "plt.axvline(x=np.argmin(val_log), color='r', linestyle='--')\n",
    "plt.text(np.argmin(val_log)+1, np.min(val_log)+0.1, 'Golden point', color='k')\n",
    "plt.xlabel('Epoch')\n",
    "plt.ylabel('Loss')\n",
    "plt.legend()\n",
    "plt.show()\n",
    "\n",
    "\n",
    "# 오버피팅에 의한 성능 저하\n",
    "# 학습 시간 낭비"
   ]
  },
  {
   "cell_type": "code",
   "execution_count": 23,
   "metadata": {},
   "outputs": [],
   "source": [
    "# Prediction Function\n",
    "\n",
    "def predict(model, test_loader, device):\n",
    "    model.eval()\n",
    "    pred_list = []\n",
    "    with torch.no_grad():\n",
    "        for x, y in test_loader:\n",
    "            pred = model(x.to(device))\n",
    "            pred_list.append(pred.cpu().softmax(1).numpy())\n",
    "    return np.concatenate(pred_list)"
   ]
  },
  {
   "cell_type": "code",
   "execution_count": 24,
   "metadata": {},
   "outputs": [],
   "source": [
    "# Test set에 대한 예측\n",
    "y_test_pred = predict(model, test_dataloader, device)"
   ]
  },
  {
   "cell_type": "code",
   "execution_count": 25,
   "metadata": {},
   "outputs": [
    {
     "name": "stdout",
     "output_type": "stream",
     "text": [
      "(10000, 10)\n"
     ]
    }
   ],
   "source": [
    "# y_test_pred shape 확인\n",
    "print(y_test_pred.shape)"
   ]
  },
  {
   "cell_type": "code",
   "execution_count": 26,
   "metadata": {},
   "outputs": [
    {
     "data": {
      "image/png": "[encoded data removed]",
      "text/plain": [
       "<Figure size 2000x400 with 20 Axes>"
      ]
     },
     "metadata": {},
     "output_type": "display_data"
    }
   ],
   "source": [
    "# display the first 10 predictions with images\n",
    "fig, ax = plt.subplots(2, 10, figsize=(20, 4))\n",
    "ax = ax.flatten()\n",
    "for i in range(10):\n",
    "    # plot the image (first row)\n",
    "    ax[i].imshow(test_data[i][0].reshape(28, 28), cmap='gray') \n",
    "    ax[i].axis('off')\n",
    "    color = 'green' if np.argmax(y_test_pred[i]) == test_data[i][1] else 'red'\n",
    "    ax[i].set_title(f\"True: {test_data[i][1]}, Pred: {np.argmax(y_test_pred[i])}\", color=color)\n",
    "\n",
    "    # plot the probability distribution (second row)\n",
    "    ax[i+10].bar(np.arange(10), y_test_pred[i]) \n",
    "    ax[i+10].set_xticks(np.arange(10)) \n",
    "plt.tight_layout()\n",
    "plt.show()"
   ]
  },
  {
   "cell_type": "markdown",
   "metadata": {},
   "source": [
    "## Early Stopping"
   ]
  },
  {
   "cell_type": "code",
   "execution_count": 28,
   "metadata": {},
   "outputs": [
    {
     "name": "stdout",
     "output_type": "stream",
     "text": [
      "Epoch:  0, Train loss: 0.7912, Validation loss: 0.3664, Validation accuracy: 0.8933\n",
      "Epoch:  1, Train loss: 0.3183, Validation loss: 0.2871, Validation accuracy: 0.9117\n",
      "Epoch:  2, Train loss: 0.2326, Validation loss: 0.2709, Validation accuracy: 0.9225\n",
      "Epoch:  3, Train loss: 0.1855, Validation loss: 0.2518, Validation accuracy: 0.9192\n",
      "Epoch:  4, Train loss: 0.1397, Validation loss: 0.2156, Validation accuracy: 0.9358\n",
      "Epoch:  5, Train loss: 0.1098, Validation loss: 0.2128, Validation accuracy: 0.9400\n",
      "Epoch:  6, Train loss: 0.0866, Validation loss: 0.2138, Validation accuracy: 0.9367\n",
      "Epoch:  7, Train loss: 0.0641, Validation loss: 0.2053, Validation accuracy: 0.9375\n",
      "Epoch:  8, Train loss: 0.0491, Validation loss: 0.1990, Validation accuracy: 0.9408\n",
      "Epoch:  9, Train loss: 0.0380, Validation loss: 0.1865, Validation accuracy: 0.9458\n",
      "Epoch: 10, Train loss: 0.0295, Validation loss: 0.1914, Validation accuracy: 0.9442\n",
      "Epoch: 11, Train loss: 0.0240, Validation loss: 0.1918, Validation accuracy: 0.9492\n",
      "Epoch: 12, Train loss: 0.0199, Validation loss: 0.1921, Validation accuracy: 0.9450\n",
      "Epoch: 13, Train loss: 0.0150, Validation loss: 0.1866, Validation accuracy: 0.9483\n",
      "Epoch: 14, Train loss: 0.0110, Validation loss: 0.1902, Validation accuracy: 0.9458\n",
      "Epoch: 15, Train loss: 0.0090, Validation loss: 0.1855, Validation accuracy: 0.9492\n",
      "Epoch: 16, Train loss: 0.0076, Validation loss: 0.1890, Validation accuracy: 0.9467\n",
      "Epoch: 17, Train loss: 0.0065, Validation loss: 0.1906, Validation accuracy: 0.9467\n",
      "Epoch: 18, Train loss: 0.0055, Validation loss: 0.1911, Validation accuracy: 0.9475\n",
      "Epoch: 19, Train loss: 0.0048, Validation loss: 0.1931, Validation accuracy: 0.9442\n",
      "Epoch: 20, Train loss: 0.0042, Validation loss: 0.1914, Validation accuracy: 0.9483\n",
      "Epoch: 21, Train loss: 0.0038, Validation loss: 0.1949, Validation accuracy: 0.9450\n",
      "Early stopping\n",
      "Done!\n"
     ]
    }
   ],
   "source": [
    "# 모델 정의\n",
    "model = FNN(input_size=input_size, hidden_size=hidden_size, num_classes=num_classes).to(device)\n",
    "\n",
    "# Optimizer, Loss function 정의 (Optimizer: Adam, Loss function: Cross Entropy Loss)\n",
    "optimizer = torch.optim.Adam(model.parameters(), lr=learning_rate)\n",
    "loss_fn = nn.CrossEntropyLoss()\n",
    "\n",
    "# max epochs: 50\n",
    "epochs = 50\n",
    "# Learning Curve를 그리기 위한 로그 리스트 (Training loss, Validation loss)\n",
    "train_log = []\n",
    "val_log = []\n",
    "\n",
    "# Training\n",
    "## 종료 조건 - 1: max epochs에 도달하면 종료, 2: validation loss가 5번 이상 개선되지 않으면 종료\n",
    "for t in range(epochs):\n",
    "    train_loss = train_loop(train_dataloader, model, loss_fn, optimizer, device)\n",
    "    val_loss, val_acc = test_loop(val_dataloader, model, loss_fn, device)\n",
    "    print(f\"Epoch: {t:2d}, Train loss: {train_loss:.4f}, Validation loss: {val_loss:.4f}, Validation accuracy: {val_acc:.4f}\")\n",
    "    train_log.append(train_loss)\n",
    "    val_log.append(val_loss)\n",
    "\n",
    "    # Save best model (lowest validation loss)\n",
    "\n",
    "    ########################################################\n",
    "    if t == np.argmin(val_log):\n",
    "        torch.save(model.state_dict(), \"best_model.pt\")\n",
    "        # print(\"Saved best model (epoch {})\".format(t))\n",
    "    ########################################################\n",
    "\n",
    "    ########################################################\n",
    "    # Early stopping\n",
    "    elif (t - np.argmin(val_log)) > 5:\n",
    "        print(\"Early stopping\")\n",
    "        break\n",
    "    ########################################################\n",
    "\n",
    "print(\"Done!\")"
   ]
  },
  {
   "cell_type": "markdown",
   "metadata": {},
   "source": [
    "## Learning rate scheduler"
   ]
  },
  {
   "cell_type": "code",
   "execution_count": 29,
   "metadata": {},
   "outputs": [],
   "source": [
    "# reduce learning rate when validation loss plateaus\n",
    "lr_scheduler = torch.optim.lr_scheduler.ReduceLROnPlateau(optimizer, mode='min', factor=0.5, patience=5, verbose=True)\n",
    "## mode: min or max\n",
    "## factor: Multiplicative factor of learning rate decay\n",
    "## patience: Number of epochs with no improvement after which learning rate will be reduced\n",
    "## verbose: If True, prints a message to stdout for each update\n",
    "\n",
    "\n",
    "# reduce learning rate every epoch\n",
    "lr_scheduler = torch.optim.lr_scheduler.ExponentialLR(optimizer, gamma=0.99)\n",
    "## gamma: Multiplicative factor of learning rate decay\n",
    "\n",
    "\n",
    "# reduce learning rate every 10 epochs\n",
    "lr_scheduler = torch.optim.lr_scheduler.StepLR(optimizer, step_size=10, gamma=0.9) \n",
    "## step_size: Period of learning rate decay\n",
    "## gamma: Multiplicative factor of learning rate decay"
   ]
  },
  {
   "cell_type": "code",
   "execution_count": 30,
   "metadata": {},
   "outputs": [
    {
     "name": "stdout",
     "output_type": "stream",
     "text": [
      "Epoch:  0, Train loss: 0.8118, Validation loss: 0.3610, Validation accuracy: 0.8908\n",
      "Learning rate: 0.0009900\n",
      "Epoch:  1, Train loss: 0.3267, Validation loss: 0.2878, Validation accuracy: 0.9067\n",
      "Learning rate: 0.0009801\n",
      "Epoch:  2, Train loss: 0.2455, Validation loss: 0.2766, Validation accuracy: 0.9167\n",
      "Learning rate: 0.0009703\n",
      "Epoch:  3, Train loss: 0.1947, Validation loss: 0.2321, Validation accuracy: 0.9350\n",
      "Learning rate: 0.0009606\n",
      "Epoch:  4, Train loss: 0.1496, Validation loss: 0.2231, Validation accuracy: 0.9325\n",
      "Learning rate: 0.0009510\n",
      "Epoch:  5, Train loss: 0.1164, Validation loss: 0.2076, Validation accuracy: 0.9408\n",
      "Learning rate: 0.0009415\n",
      "Epoch:  6, Train loss: 0.0924, Validation loss: 0.2064, Validation accuracy: 0.9408\n",
      "Learning rate: 0.0009321\n",
      "Epoch:  7, Train loss: 0.0741, Validation loss: 0.1998, Validation accuracy: 0.9433\n",
      "Learning rate: 0.0009227\n",
      "Epoch:  8, Train loss: 0.0605, Validation loss: 0.2104, Validation accuracy: 0.9317\n",
      "Learning rate: 0.0009135\n",
      "Epoch:  9, Train loss: 0.0437, Validation loss: 0.1966, Validation accuracy: 0.9450\n",
      "Learning rate: 0.0009044\n",
      "Epoch: 10, Train loss: 0.0335, Validation loss: 0.1978, Validation accuracy: 0.9433\n",
      "Learning rate: 0.0008953\n",
      "Epoch: 11, Train loss: 0.0261, Validation loss: 0.1934, Validation accuracy: 0.9450\n",
      "Learning rate: 0.0008864\n",
      "Epoch: 12, Train loss: 0.0210, Validation loss: 0.1956, Validation accuracy: 0.9417\n",
      "Learning rate: 0.0008775\n",
      "Epoch: 13, Train loss: 0.0166, Validation loss: 0.1886, Validation accuracy: 0.9475\n",
      "Learning rate: 0.0008687\n",
      "Epoch: 14, Train loss: 0.0144, Validation loss: 0.1888, Validation accuracy: 0.9475\n",
      "Learning rate: 0.0008601\n",
      "Epoch: 15, Train loss: 0.0115, Validation loss: 0.1890, Validation accuracy: 0.9508\n",
      "Learning rate: 0.0008515\n",
      "Epoch: 16, Train loss: 0.0100, Validation loss: 0.1920, Validation accuracy: 0.9483\n",
      "Learning rate: 0.0008429\n",
      "Epoch: 17, Train loss: 0.0084, Validation loss: 0.1902, Validation accuracy: 0.9475\n",
      "Learning rate: 0.0008345\n",
      "Epoch: 18, Train loss: 0.0072, Validation loss: 0.1917, Validation accuracy: 0.9442\n",
      "Learning rate: 0.0008262\n",
      "Epoch: 19, Train loss: 0.0062, Validation loss: 0.1950, Validation accuracy: 0.9467\n",
      "Early stopping\n",
      "Done!\n"
     ]
    }
   ],
   "source": [
    "model = FNN(input_size=input_size, hidden_size=hidden_size, num_classes=num_classes).to(device)\n",
    "\n",
    "optimizer = torch.optim.Adam(model.parameters(), lr=learning_rate)\n",
    "lr_scheduler = torch.optim.lr_scheduler.ExponentialLR(optimizer, gamma=0.99)\n",
    "loss_fn = nn.CrossEntropyLoss()\n",
    "\n",
    "epochs = 50\n",
    "train_log = []\n",
    "val_log = []\n",
    "for t in range(epochs):\n",
    "    train_loss = train_loop(train_dataloader, model, loss_fn, optimizer, device)\n",
    "    val_loss, val_acc = test_loop(val_dataloader, model, loss_fn, device)\n",
    "    print(f\"Epoch: {t:2d}, Train loss: {train_loss:.4f}, Validation loss: {val_loss:.4f}, Validation accuracy: {val_acc:.4f}\")\n",
    "    train_log.append(train_loss)\n",
    "    val_log.append(val_loss)\n",
    "\n",
    "    # Save best model\n",
    "    if t == np.argmin(val_log):\n",
    "        torch.save(model.state_dict(), \"best_model.pt\")\n",
    "        # print(\"Saved best model (epoch {})\".format(t))\n",
    "\n",
    "    # Early stopping\n",
    "    elif (t - np.argmin(val_log)) > 5:\n",
    "        print(\"Early stopping\")\n",
    "        break\n",
    "\n",
    "    ########################################################\n",
    "    # Learning rate scheduler per epoch\n",
    "    lr_scheduler.step()\n",
    "\n",
    "    # Learning rate scheduler at certain condition (validation loss)\n",
    "    # lr_scheduler.step(val_loss)\n",
    "    \n",
    "    print(f\"Learning rate: {optimizer.param_groups[0]['lr']:.7f}\")\n",
    "    ########################################################\n",
    "    \n",
    "print(\"Done!\")"
   ]
  },
  {
   "cell_type": "markdown",
   "metadata": {},
   "source": [
    "## Weight Decay"
   ]
  },
  {
   "cell_type": "markdown",
   "metadata": {},
   "source": [
    "* weight의 제곱합을 페널티 텀으로 추가  (Loss = Loss + weight_decay_factor * ||weight||^2)\n",
    "* 특정 weight가 커지는 것을 방지하여 overfitting을 완화"
   ]
  },
  {
   "cell_type": "code",
   "execution_count": 31,
   "metadata": {},
   "outputs": [],
   "source": [
    "# optimizer에 L2 regularization 적용\n",
    "optimizer = torch.optim.Adam(model.parameters(), lr=learning_rate, weight_decay=1e-8)\n",
    "## weight_decay: L2 regularization coefficient"
   ]
  },
  {
   "cell_type": "markdown",
   "metadata": {},
   "source": [
    "## Batch Normalization"
   ]
  },
  {
   "cell_type": "markdown",
   "metadata": {},
   "source": [
    "- 배치 별로 평균과 분산을 조정하여 학습을 안정적이고 빠르게 진행"
   ]
  },
  {
   "cell_type": "code",
   "execution_count": 32,
   "metadata": {},
   "outputs": [],
   "source": [
    "# modify FNN with batch normalization\n",
    "\n",
    "#\n",
    "class FNN_BN(nn.Module):\n",
    "    def __init__(self, input_size, hidden_size, num_classes):\n",
    "        super(FNN_BN, self).__init__()\n",
    "        self.fc1 = nn.Linear(input_size, hidden_size)\n",
    "        ########################################################\n",
    "        # Batch normalization layer 추가\n",
    "        self.bn1 = nn.BatchNorm1d(hidden_size)\n",
    "        ########################################################\n",
    "        self.relu = nn.ReLU()\n",
    "        self.fc2 = nn.Linear(hidden_size, num_classes)\n",
    "        self.flatten = nn.Flatten()\n",
    "\n",
    "    def forward(self, x):\n",
    "        x = self.flatten(x)\n",
    "        out = self.fc1(x)\n",
    "        ########################################################\n",
    "        # Batch normalization 적용\n",
    "        out = self.bn1(out)\n",
    "        ########################################################\n",
    "        out = self.relu(out)\n",
    "        out = self.fc2(out)\n",
    "        return out"
   ]
  },
  {
   "cell_type": "code",
   "execution_count": 33,
   "metadata": {},
   "outputs": [],
   "source": [
    "model = FNN_BN(input_size=input_size, hidden_size=hidden_size, num_classes=num_classes)"
   ]
  },
  {
   "cell_type": "markdown",
   "metadata": {},
   "source": [
    "## Dropout"
   ]
  },
  {
   "cell_type": "markdown",
   "metadata": {},
   "source": [
    "- 노드와의 연결을 랜덤하게 끄는 방식으로 overfitting을 방지 (특정 노드에 의존하지 않도록 함)"
   ]
  },
  {
   "cell_type": "code",
   "execution_count": 35,
   "metadata": {},
   "outputs": [],
   "source": [
    "# modify FNN with dropout\n",
    "class FNN_Dropout(nn.Module):\n",
    "    def __init__(self, input_size, hidden_size, num_classes):\n",
    "        super(FNN_Dropout, self).__init__()\n",
    "        self.fc1 = nn.Linear(input_size, hidden_size)\n",
    "        self.relu = nn.ReLU()\n",
    "        self.fc2 = nn.Linear(hidden_size, num_classes)\n",
    "        self.flatten = nn.Flatten()\n",
    "\n",
    "        ########################################\n",
    "        # Dropout layer 추가\n",
    "        self.dropout = nn.Dropout(p=0.5)\n",
    "        ########################################\n",
    "\n",
    "    def forward(self, x):\n",
    "        x = self.flatten(x)\n",
    "        out = self.fc1(x)\n",
    "        out = self.relu(out)\n",
    "        ########################################\n",
    "        # Dropout 추가\n",
    "        out = self.dropout(out)\n",
    "        ########################################\n",
    "        out = self.fc2(out)\n",
    "        return out"
   ]
  },
  {
   "cell_type": "code",
   "execution_count": 36,
   "metadata": {},
   "outputs": [],
   "source": [
    "model = FNN_Dropout(input_size=input_size, hidden_size=hidden_size, num_classes=num_classes)"
   ]
  },
  {
   "cell_type": "markdown",
   "metadata": {},
   "source": [
    "## Transfer Learning"
   ]
  },
  {
   "cell_type": "markdown",
   "metadata": {},
   "source": [
    "### Load pretrained model"
   ]
  },
  {
   "cell_type": "code",
   "execution_count": 37,
   "metadata": {},
   "outputs": [
    {
     "name": "stderr",
     "output_type": "stream",
     "text": [
      "Downloading: \"https://download.pytorch.org/models/vgg16_bn-6c64b313.pth\" to /Users/develup4/.cache/torch/hub/checkpoints/vgg16_bn-6c64b313.pth\n",
      "100.0%\n"
     ]
    },
    {
     "data": {
      "text/plain": [
       "VGG(\n",
       "  (features): Sequential(\n",
       "    (0): Conv2d(3, 64, kernel_size=(3, 3), stride=(1, 1), padding=(1, 1))\n",
       "    (1): BatchNorm2d(64, eps=1e-05, momentum=0.1, affine=True, track_running_stats=True)\n",
       "    (2): ReLU(inplace=True)\n",
       "    (3): Conv2d(64, 64, kernel_size=(3, 3), stride=(1, 1), padding=(1, 1))\n",
       "    (4): BatchNorm2d(64, eps=1e-05, momentum=0.1, affine=True, track_running_stats=True)\n",
       "    (5): ReLU(inplace=True)\n",
       "    (6): MaxPool2d(kernel_size=2, stride=2, padding=0, dilation=1, ceil_mode=False)\n",
       "    (7): Conv2d(64, 128, kernel_size=(3, 3), stride=(1, 1), padding=(1, 1))\n",
       "    (8): BatchNorm2d(128, eps=1e-05, momentum=0.1, affine=True, track_running_stats=True)\n",
       "    (9): ReLU(inplace=True)\n",
       "    (10): Conv2d(128, 128, kernel_size=(3, 3), stride=(1, 1), padding=(1, 1))\n",
       "    (11): BatchNorm2d(128, eps=1e-05, momentum=0.1, affine=True, track_running_stats=True)\n",
       "    (12): ReLU(inplace=True)\n",
       "    (13): MaxPool2d(kernel_size=2, stride=2, padding=0, dilation=1, ceil_mode=False)\n",
       "    (14): Conv2d(128, 256, kernel_size=(3, 3), stride=(1, 1), padding=(1, 1))\n",
       "    (15): BatchNorm2d(256, eps=1e-05, momentum=0.1, affine=True, track_running_stats=True)\n",
       "    (16): ReLU(inplace=True)\n",
       "    (17): Conv2d(256, 256, kernel_size=(3, 3), stride=(1, 1), padding=(1, 1))\n",
       "    (18): BatchNorm2d(256, eps=1e-05, momentum=0.1, affine=True, track_running_stats=True)\n",
       "    (19): ReLU(inplace=True)\n",
       "    (20): Conv2d(256, 256, kernel_size=(3, 3), stride=(1, 1), padding=(1, 1))\n",
       "    (21): BatchNorm2d(256, eps=1e-05, momentum=0.1, affine=True, track_running_stats=True)\n",
       "    (22): ReLU(inplace=True)\n",
       "    (23): MaxPool2d(kernel_size=2, stride=2, padding=0, dilation=1, ceil_mode=False)\n",
       "    (24): Conv2d(256, 512, kernel_size=(3, 3), stride=(1, 1), padding=(1, 1))\n",
       "    (25): BatchNorm2d(512, eps=1e-05, momentum=0.1, affine=True, track_running_stats=True)\n",
       "    (26): ReLU(inplace=True)\n",
       "    (27): Conv2d(512, 512, kernel_size=(3, 3), stride=(1, 1), padding=(1, 1))\n",
       "    (28): BatchNorm2d(512, eps=1e-05, momentum=0.1, affine=True, track_running_stats=True)\n",
       "    (29): ReLU(inplace=True)\n",
       "    (30): Conv2d(512, 512, kernel_size=(3, 3), stride=(1, 1), padding=(1, 1))\n",
       "    (31): BatchNorm2d(512, eps=1e-05, momentum=0.1, affine=True, track_running_stats=True)\n",
       "    (32): ReLU(inplace=True)\n",
       "    (33): MaxPool2d(kernel_size=2, stride=2, padding=0, dilation=1, ceil_mode=False)\n",
       "    (34): Conv2d(512, 512, kernel_size=(3, 3), stride=(1, 1), padding=(1, 1))\n",
       "    (35): BatchNorm2d(512, eps=1e-05, momentum=0.1, affine=True, track_running_stats=True)\n",
       "    (36): ReLU(inplace=True)\n",
       "    (37): Conv2d(512, 512, kernel_size=(3, 3), stride=(1, 1), padding=(1, 1))\n",
       "    (38): BatchNorm2d(512, eps=1e-05, momentum=0.1, affine=True, track_running_stats=True)\n",
       "    (39): ReLU(inplace=True)\n",
       "    (40): Conv2d(512, 512, kernel_size=(3, 3), stride=(1, 1), padding=(1, 1))\n",
       "    (41): BatchNorm2d(512, eps=1e-05, momentum=0.1, affine=True, track_running_stats=True)\n",
       "    (42): ReLU(inplace=True)\n",
       "    (43): MaxPool2d(kernel_size=2, stride=2, padding=0, dilation=1, ceil_mode=False)\n",
       "  )\n",
       "  (avgpool): AdaptiveAvgPool2d(output_size=(7, 7))\n",
       "  (classifier): Sequential(\n",
       "    (0): Linear(in_features=25088, out_features=4096, bias=True)\n",
       "    (1): ReLU(inplace=True)\n",
       "    (2): Dropout(p=0.5, inplace=False)\n",
       "    (3): Linear(in_features=4096, out_features=4096, bias=True)\n",
       "    (4): ReLU(inplace=True)\n",
       "    (5): Dropout(p=0.5, inplace=False)\n",
       "    (6): Linear(in_features=4096, out_features=1000, bias=True)\n",
       "  )\n",
       ")"
      ]
     },
     "execution_count": 37,
     "metadata": {},
     "output_type": "execute_result"
    }
   ],
   "source": [
    "### load pre-trained model (VGG16)\n",
    "\n",
    "from torchvision import models\n",
    "\n",
    "# model = models.vgg16_bn(pretrained=True)\n",
    "model = models.vgg16_bn(weights=\"IMAGENET1K_V1\")\n",
    "model"
   ]
  },
  {
   "cell_type": "code",
   "execution_count": 38,
   "metadata": {},
   "outputs": [
    {
     "data": {
      "text/plain": [
       "VGG(\n",
       "  (features): Sequential(\n",
       "    (0): Conv2d(3, 64, kernel_size=(3, 3), stride=(1, 1), padding=(1, 1))\n",
       "    (1): BatchNorm2d(64, eps=1e-05, momentum=0.1, affine=True, track_running_stats=True)\n",
       "    (2): ReLU(inplace=True)\n",
       "    (3): Conv2d(64, 64, kernel_size=(3, 3), stride=(1, 1), padding=(1, 1))\n",
       "    (4): BatchNorm2d(64, eps=1e-05, momentum=0.1, affine=True, track_running_stats=True)\n",
       "    (5): ReLU(inplace=True)\n",
       "    (6): MaxPool2d(kernel_size=2, stride=2, padding=0, dilation=1, ceil_mode=False)\n",
       "    (7): Conv2d(64, 128, kernel_size=(3, 3), stride=(1, 1), padding=(1, 1))\n",
       "    (8): BatchNorm2d(128, eps=1e-05, momentum=0.1, affine=True, track_running_stats=True)\n",
       "    (9): ReLU(inplace=True)\n",
       "    (10): Conv2d(128, 128, kernel_size=(3, 3), stride=(1, 1), padding=(1, 1))\n",
       "    (11): BatchNorm2d(128, eps=1e-05, momentum=0.1, affine=True, track_running_stats=True)\n",
       "    (12): ReLU(inplace=True)\n",
       "    (13): MaxPool2d(kernel_size=2, stride=2, padding=0, dilation=1, ceil_mode=False)\n",
       "    (14): Conv2d(128, 256, kernel_size=(3, 3), stride=(1, 1), padding=(1, 1))\n",
       "    (15): BatchNorm2d(256, eps=1e-05, momentum=0.1, affine=True, track_running_stats=True)\n",
       "    (16): ReLU(inplace=True)\n",
       "    (17): Conv2d(256, 256, kernel_size=(3, 3), stride=(1, 1), padding=(1, 1))\n",
       "    (18): BatchNorm2d(256, eps=1e-05, momentum=0.1, affine=True, track_running_stats=True)\n",
       "    (19): ReLU(inplace=True)\n",
       "    (20): Conv2d(256, 256, kernel_size=(3, 3), stride=(1, 1), padding=(1, 1))\n",
       "    (21): BatchNorm2d(256, eps=1e-05, momentum=0.1, affine=True, track_running_stats=True)\n",
       "    (22): ReLU(inplace=True)\n",
       "    (23): MaxPool2d(kernel_size=2, stride=2, padding=0, dilation=1, ceil_mode=False)\n",
       "    (24): Conv2d(256, 512, kernel_size=(3, 3), stride=(1, 1), padding=(1, 1))\n",
       "    (25): BatchNorm2d(512, eps=1e-05, momentum=0.1, affine=True, track_running_stats=True)\n",
       "    (26): ReLU(inplace=True)\n",
       "    (27): Conv2d(512, 512, kernel_size=(3, 3), stride=(1, 1), padding=(1, 1))\n",
       "    (28): BatchNorm2d(512, eps=1e-05, momentum=0.1, affine=True, track_running_stats=True)\n",
       "    (29): ReLU(inplace=True)\n",
       "    (30): Conv2d(512, 512, kernel_size=(3, 3), stride=(1, 1), padding=(1, 1))\n",
       "    (31): BatchNorm2d(512, eps=1e-05, momentum=0.1, affine=True, track_running_stats=True)\n",
       "    (32): ReLU(inplace=True)\n",
       "    (33): MaxPool2d(kernel_size=2, stride=2, padding=0, dilation=1, ceil_mode=False)\n",
       "    (34): Conv2d(512, 512, kernel_size=(3, 3), stride=(1, 1), padding=(1, 1))\n",
       "    (35): BatchNorm2d(512, eps=1e-05, momentum=0.1, affine=True, track_running_stats=True)\n",
       "    (36): ReLU(inplace=True)\n",
       "    (37): Conv2d(512, 512, kernel_size=(3, 3), stride=(1, 1), padding=(1, 1))\n",
       "    (38): BatchNorm2d(512, eps=1e-05, momentum=0.1, affine=True, track_running_stats=True)\n",
       "    (39): ReLU(inplace=True)\n",
       "    (40): Conv2d(512, 512, kernel_size=(3, 3), stride=(1, 1), padding=(1, 1))\n",
       "    (41): BatchNorm2d(512, eps=1e-05, momentum=0.1, affine=True, track_running_stats=True)\n",
       "    (42): ReLU(inplace=True)\n",
       "    (43): MaxPool2d(kernel_size=2, stride=2, padding=0, dilation=1, ceil_mode=False)\n",
       "  )\n",
       "  (avgpool): AdaptiveAvgPool2d(output_size=(7, 7))\n",
       "  (classifier): Sequential(\n",
       "    (0): Linear(in_features=25088, out_features=4096, bias=True)\n",
       "    (1): ReLU(inplace=True)\n",
       "    (2): Dropout(p=0.5, inplace=False)\n",
       "    (3): Linear(in_features=4096, out_features=4096, bias=True)\n",
       "    (4): ReLU(inplace=True)\n",
       "    (5): Dropout(p=0.5, inplace=False)\n",
       "    (6): Linear(in_features=4096, out_features=10, bias=True)\n",
       "  )\n",
       ")"
      ]
     },
     "execution_count": 38,
     "metadata": {},
     "output_type": "execute_result"
    }
   ],
   "source": [
    "# modify the last layer of the model to fit the number of classes\n",
    "model.classifier[6] = nn.Linear(4096, num_classes)\n",
    "model"
   ]
  },
  {
   "cell_type": "markdown",
   "metadata": {},
   "source": [
    "### Freeze layers"
   ]
  },
  {
   "cell_type": "code",
   "execution_count": 39,
   "metadata": {},
   "outputs": [],
   "source": [
    "# freeze all layers if not last layer\n",
    "\n",
    "for name, param in model.named_parameters():\n",
    "    if name not in [\"classifier.6.weight\", \"classifier.6.bias\"]:\n",
    "        param.requires_grad = False\n"
   ]
  },
  {
   "cell_type": "code",
   "execution_count": 40,
   "metadata": {},
   "outputs": [],
   "source": [
    "# freeze layers if \"features\" in name\n",
    "\n",
    "for name, param in model.named_parameters():\n",
    "    if \"features\" in name:\n",
    "        param.requires_grad = False"
   ]
  }
 ],
 "metadata": {
  "kernelspec": {
   "display_name": "Python 3",
   "language": "python",
   "name": "python3"
  },
  "language_info": {
   "codemirror_mode": {
    "name": "ipython",
    "version": 3
   },
   "file_extension": ".py",
   "mimetype": "text/x-python",
   "name": "python",
   "nbconvert_exporter": "python",
   "pygments_lexer": "ipython3",
   "version": "3.9.12"
  },
  "vscode": {
   "interpreter": {
    "hash": "67279a16936c44c66ab678de41f1260360b345454ec17353bfa5d06d9ac761b8"
   }
  }
 },
 "nbformat": 4,
 "nbformat_minor": 2
}
