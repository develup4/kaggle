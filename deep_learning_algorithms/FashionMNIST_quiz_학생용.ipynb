{
 "cells": [
  {
   "attachments": {},
   "cell_type": "markdown",
   "metadata": {},
   "source": [
    "## Dataset: FashionMNIST"
   ]
  },
  {
   "attachments": {},
   "cell_type": "markdown",
   "metadata": {},
   "source": [
    "### 이미지 크기: 28x28 (Gray-scale images of 28x28 pixels)"
   ]
  },
  {
   "attachments": {},
   "cell_type": "markdown",
   "metadata": {},
   "source": [
    "## 1. Load FashionMNIST"
   ]
  },
  {
   "cell_type": "code",
   "execution_count": null,
   "metadata": {},
   "outputs": [],
   "source": [
    "# import\n",
    "\n",
    "import torch\n",
    "from torch import nn\n",
    "from torch.utils.data import DataLoader\n",
    "import torchvision\n",
    "from torchvision import datasets\n",
    "from torchvision.transforms import ToTensor\n",
    "from matplotlib import pyplot as plt"
   ]
  },
  {
   "cell_type": "code",
   "execution_count": null,
   "metadata": {},
   "outputs": [],
   "source": [
    "# FashionMNIST 데이터셋 불러오기\n",
    "\n",
    "training_data = datasets.FashionMNIST(\n",
    "    root=\"data\",\n",
    "    train=True,\n",
    "    download=False,\n",
    "    transform=ToTensor()\n",
    ")\n",
    "\n",
    "test_data = datasets.FashionMNIST(\n",
    "    root=\"data\",\n",
    "    train=False,\n",
    "    download=False,\n",
    "    transform=ToTensor()\n",
    ")"
   ]
  },
  {
   "cell_type": "code",
   "execution_count": null,
   "metadata": {},
   "outputs": [],
   "source": [
    "print('X.shape: %s, y.shape: %s'%(training_data.data.shape, training_data.targets.shape))\n",
    "print('X_test.shape: %s, y_test.shape: %s'%(test_data.data.shape, test_data.targets.shape))"
   ]
  },
  {
   "cell_type": "code",
   "execution_count": null,
   "metadata": {},
   "outputs": [],
   "source": [
    "# 학습 반복 동안 mini-batch의 구성이 계속해서 달라지도록 shuffle=True로 설정\n",
    "trainloader = \n",
    "\n",
    "# Test 시에는 mini-batch 구성의 순서가 상관없으므로 shuffle=False로 설정\n",
    "testloader = "
   ]
  },
  {
   "cell_type": "code",
   "execution_count": null,
   "metadata": {},
   "outputs": [],
   "source": [
    "# 데이터 시각화 해보기\n",
    "\n",
    "labels_map = {\n",
    "    0: \"0\",\n",
    "    1: \"1\",\n",
    "    2: \"2\",\n",
    "    3: \"3\",\n",
    "    4: \"4\",\n",
    "    5: \"5\",\n",
    "    6: \"6\",\n",
    "    7: \"7\",\n",
    "    8: \"8\",\n",
    "    9: \"9\",\n",
    "}\n",
    "figure = plt.figure(figsize=(8, 8))\n",
    "cols, rows = 3, 3\n",
    "for i in range(1, cols * rows + 1):\n",
    "    sample_idx = torch.randint(len(training_data), size=(1,)).item()\n",
    "    img, label = training_data[sample_idx]\n",
    "    figure.add_subplot(rows, cols, i)\n",
    "    plt.title(labels_map[label])\n",
    "    plt.axis(\"off\")\n",
    "    plt.imshow(img.squeeze(), cmap=\"gray\")\n",
    "plt.show()"
   ]
  },
  {
   "cell_type": "code",
   "execution_count": null,
   "metadata": {},
   "outputs": [],
   "source": [
    "# 이미지 shape와 출력 예시 확인\n",
    "\n",
    "img, label = trainloader.dataset[0]\n",
    "print('shape of image:', img.shape)\n",
    "print('label:', label)\n",
    "plt.imshow(img.squeeze(), cmap=\"gray\")"
   ]
  },
  {
   "attachments": {},
   "cell_type": "markdown",
   "metadata": {},
   "source": [
    "## 2. Define a Feedforward Neural Network"
   ]
  },
  {
   "cell_type": "code",
   "execution_count": null,
   "metadata": {},
   "outputs": [],
   "source": [
    "# 모델 정의\n",
    "\n",
    "import torch.nn as nn\n",
    "\n",
    "\n",
    "class NeuralNetwork(nn.Module):\n",
    "    def __init__(self):\n",
    "        super(NeuralNetwork, self).__init__()\n",
    "        \n",
    "        # 2D array -> 1D array 변환을 위한 flatten 함수 정의\n",
    "        self.flatten =\n",
    "\n",
    "        # nn.Sequential 활용한 fully-connected layer 함수 정의\n",
    "        self.linear_relu_stack =\n",
    "        \n",
    "\n",
    "        \n",
    "        \n",
    "\n",
    "    def forward(self, x):\n",
    "        # flatten all dimensions except batch\n",
    "        x =\n",
    "\n",
    "        # fully-connected layers\n",
    "        x =\n",
    "\n",
    "        return x\n",
    "\n",
    "\n",
    "net = NeuralNetwork()"
   ]
  },
  {
   "attachments": {},
   "cell_type": "markdown",
   "metadata": {},
   "source": [
    "## 3. Define a Loss Function and Optimizer"
   ]
  },
  {
   "cell_type": "code",
   "execution_count": null,
   "metadata": {},
   "outputs": [],
   "source": [
    "# hyperparameter 설정\n",
    "\n",
    "learning_rate = \n",
    "num_epochs = "
   ]
  },
  {
   "cell_type": "code",
   "execution_count": null,
   "metadata": {},
   "outputs": [],
   "source": [
    "# loss function 및 optimizer 설정\n",
    "\n",
    "import torch.optim as optim\n",
    "\n",
    "criterion = \n",
    "optimizer = "
   ]
  },
  {
   "attachments": {},
   "cell_type": "markdown",
   "metadata": {},
   "source": [
    "## 4. Train the Network"
   ]
  },
  {
   "cell_type": "code",
   "execution_count": null,
   "metadata": {},
   "outputs": [],
   "source": [
    "# 여러 epoch을 반복하며 NN 모델 학습\n",
    "\n",
    "for epoch in range(num_epochs):\n",
    "\n",
    "    running_loss = 0.0\n",
    "    for i, data in enumerate(trainloader):\n",
    "        # get the inputs; data is a list of [inputs, labels]\n",
    "        \n",
    "\n",
    "        # zero the parameter gradients\n",
    "        \n",
    "\n",
    "        # forward + backward + optimize\n",
    "        \n",
    "\n",
    "        # print statistics\n",
    "        running_loss += loss.item()\n",
    "        \n",
    "        if i % 100 == 0:\n",
    "            if i > 0:\n",
    "                print('epoch: %d, iter: %d, loss: %.3f'%((epoch+1), i, running_loss/100))\n",
    "                running_loss = 0.0\n",
    "\n",
    "    print('%d epoch processed...'%(epoch+1))\n",
    "\n",
    "print('Finished Training')"
   ]
  },
  {
   "cell_type": "code",
   "execution_count": null,
   "metadata": {},
   "outputs": [],
   "source": [
    "# 학습된 모델 저장하기\n",
    "\n",
    "PATH = './mnist_fnnet.pth'\n"
   ]
  },
  {
   "cell_type": "code",
   "execution_count": null,
   "metadata": {},
   "outputs": [],
   "source": [
    "# 저장된 모델의 Parameter 불러오기\n",
    "\n",
    "net = NeuralNetwork()\n"
   ]
  },
  {
   "cell_type": "markdown",
   "metadata": {},
   "source": [
    "## 5. Test the Network on the Test Data"
   ]
  },
  {
   "cell_type": "code",
   "execution_count": null,
   "metadata": {},
   "outputs": [],
   "source": [
    "from sklearn.metrics import accuracy_score\n",
    "import numpy as np"
   ]
  },
  {
   "cell_type": "code",
   "execution_count": null,
   "metadata": {},
   "outputs": [],
   "source": [
    "# 전체 test set에 대한 accuracy\n",
    "\n",
    "pred_list = []\n",
    "labels_list = []\n",
    "\n",
    "# 모델 학습을 종료하였으므로 gradient 계산을 할 필요가 없음\n",
    "with torch.no_grad():\n",
    "    for data in testloader:\n",
    "        # get the inputs; data is a list of [inputs, labels]\n",
    "        \n",
    "        \n",
    "        # 샘플 이미지에 대한 model output 출력\n",
    "        \n",
    "        \n",
    "        # model output에 기반한 예측 결과 출력\n",
    "        \n",
    "\n",
    "        \n",
    "        pred_list.append(pred)\n",
    "        labels_list.append(labels)\n",
    "\n",
    "\n",
    "pred_list = np.hstack(pred_list)\n",
    "labels_list = np.hstack(labels_list)\n",
    "\n",
    "acc = \n",
    "\n",
    "print('Accuracy of the network on the 10000 test images:', acc)"
   ]
  },
  {
   "cell_type": "code",
   "execution_count": null,
   "metadata": {},
   "outputs": [],
   "source": [
    "# Test set 샘플 이미지 출력해보기\n",
    "\n",
    "# batch size 만큼의 이미지 샘플 추출\n",
    "dataiter = iter(testloader)\n",
    "images, labels = next(dataiter)\n",
    "\n",
    "\n",
    "# print images\n",
    "def imshow(img):\n",
    "    img = img / 2 + 0.5     # unnormalize\n",
    "    npimg = img.numpy()\n",
    "    plt.imshow(np.transpose(npimg, (1, 2, 0)))\n",
    "    plt.show()\n",
    "\n",
    "    \n",
    "imshow(torchvision.utils.make_grid(images))\n",
    "\n",
    "\n",
    "ground_truth_list = []\n",
    "for label in labels:\n",
    "    true_label = labels_map[label.item()]\n",
    "    ground_truth_list.append(true_label)\n",
    "\n",
    "print('Ground Truth:', ground_truth_list)"
   ]
  },
  {
   "cell_type": "code",
   "execution_count": null,
   "metadata": {},
   "outputs": [],
   "source": [
    "# 샘플에 대한 예측 수행 후 실제 값과 일치하는 지 비교해보기\n",
    "\n",
    "outputs = net(images)\n",
    "\n",
    "preds = outputs.argmax(1)\n",
    "\n",
    "pred_label_list = []\n",
    "for pred in preds:\n",
    "    pred_label = labels_map[pred.item()]\n",
    "    pred_label_list.append(pred_label)\n",
    "\n",
    "print('Predicted: ', pred_label_list)"
   ]
  }
 ],
 "metadata": {
  "kernelspec": {
   "display_name": "Python 3",
   "language": "python",
   "name": "python3"
  },
  "language_info": {
   "codemirror_mode": {
    "name": "ipython",
    "version": 3
   },
   "file_extension": ".py",
   "mimetype": "text/x-python",
   "name": "python",
   "nbconvert_exporter": "python",
   "pygments_lexer": "ipython3",
   "version": "3.8.16"
  }
 },
 "nbformat": 4,
 "nbformat_minor": 4
}
