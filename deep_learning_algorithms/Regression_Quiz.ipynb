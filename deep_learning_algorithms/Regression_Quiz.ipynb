{
 "cells": [
  {
   "attachments": {},
   "cell_type": "markdown",
   "metadata": {},
   "source": [
    "# Dataset: Bike Sharing\n",
    "### (regression task)"
   ]
  },
  {
   "attachments": {},
   "cell_type": "markdown",
   "metadata": {},
   "source": [
    "## 1. Load Dataset"
   ]
  },
  {
   "cell_type": "code",
   "execution_count": 57,
   "metadata": {},
   "outputs": [],
   "source": [
    "# import\n",
    "import numpy as np\n",
    "import torch\n",
    "from torch import nn\n",
    "from torch.utils.data import DataLoader, Dataset\n",
    "from torchvision import datasets\n",
    "from torchvision.transforms import ToTensor\n",
    "from sklearn.model_selection import train_test_split\n",
    "from sklearn.preprocessing import StandardScaler\n",
    "from sklearn.metrics import mean_squared_error, r2_score\n",
    "from matplotlib import pyplot as plt"
   ]
  },
  {
   "cell_type": "code",
   "execution_count": 17,
   "metadata": {},
   "outputs": [
    {
     "name": "stdout",
     "output_type": "stream",
     "text": [
      "X,shape: (17379, 14), y.shape: (17379, 1)\n"
     ]
    }
   ],
   "source": [
    "# 데이터셋 로드하기\n",
    "dfile = 'data/bikesharing.csv'\n",
    "data = np.genfromtxt(dfile, delimiter=',')\n",
    "\n",
    "X = data[:,:-1]\n",
    "y = data[:,-1:]\n",
    "\n",
    "dim_x = X.shape[1]\n",
    "\n",
    "print('X,shape: %s, y.shape: %s'%(X.shape, y.shape))"
   ]
  },
  {
   "cell_type": "code",
   "execution_count": 18,
   "metadata": {},
   "outputs": [],
   "source": [
    "X_trn, X_tst, y_trn, y_tst = train_test_split(X, y, test_size=None, train_size = 5000, random_state = 42)\n",
    "\n",
    "scalerX = StandardScaler()  \n",
    "X_trn = scalerX.fit_transform(X_trn)\n",
    "X_tst = scalerX.transform(X_tst)\n",
    "\n",
    "scalerY = StandardScaler()\n",
    "y_trn = scalerY.fit_transform(y_trn)"
   ]
  },
  {
   "cell_type": "code",
   "execution_count": 19,
   "metadata": {},
   "outputs": [],
   "source": [
    "# Regression datset 생성 (Tensor)\n",
    "class RegDataset(Dataset):\n",
    "\n",
    "    def __init__(self, X, Y):\n",
    "    \n",
    "        self.X = X\n",
    "        self.Y = Y\n",
    "\n",
    "    def __len__(self):\n",
    "    \n",
    "        return len(self.X)\n",
    "\n",
    "    def __getitem__(self, idx):\n",
    "    \n",
    "        x = torch.from_numpy(self.X[idx]).float()\n",
    "        y = torch.from_numpy(self.Y[idx]).float()\n",
    "    \n",
    "        return x, y\n",
    "    \n",
    "training_data = RegDataset(X_trn, y_trn)\n",
    "test_data = RegDataset(X_tst, y_tst)"
   ]
  },
  {
   "cell_type": "code",
   "execution_count": 20,
   "metadata": {},
   "outputs": [],
   "source": [
    "#Dataloader\n",
    "trainloader = DataLoader(training_data, batch_size=50, shuffle=True, drop_last=True)\n",
    "testloader = DataLoader(test_data, batch_size=50, shuffle=False)"
   ]
  },
  {
   "attachments": {},
   "cell_type": "markdown",
   "metadata": {},
   "source": [
    "## 2. Define a Feedforward Neural Network"
   ]
  },
  {
   "cell_type": "code",
   "execution_count": 26,
   "metadata": {},
   "outputs": [],
   "source": [
    "# 모델 정의\n",
    "class NeuralNetwork(nn.Module):\n",
    "    def __init__(self):\n",
    "        super(NeuralNetwork, self).__init__()\n",
    "        self.linear_relu_stack = nn.Sequential(\n",
    "            nn.Linear(14, 500),\n",
    "            nn.Tanh(),\n",
    "            nn.Linear(500, 1),\n",
    "        )\n",
    "\n",
    "    def forward(self, x):\n",
    "        x = self.linear_relu_stack(x)\n",
    "        return x\n",
    "\n",
    "net = NeuralNetwork()"
   ]
  },
  {
   "attachments": {},
   "cell_type": "markdown",
   "metadata": {},
   "source": [
    "## 3. Define a Loss Function and Optimizer"
   ]
  },
  {
   "cell_type": "code",
   "execution_count": 27,
   "metadata": {},
   "outputs": [],
   "source": [
    "# hyperparmeter 설정\n",
    "learning_rate = 1e-3\n",
    "num_epochs = 10"
   ]
  },
  {
   "cell_type": "code",
   "execution_count": 28,
   "metadata": {},
   "outputs": [],
   "source": [
    "# loss function 및 optimizer 설정\n",
    "criterion = nn.MSELoss()\n",
    "optimizer = torch.optim.Adam(net.parameters(), lr=learning_rate)"
   ]
  },
  {
   "attachments": {},
   "cell_type": "markdown",
   "metadata": {},
   "source": [
    "## 4. Train the Network"
   ]
  },
  {
   "cell_type": "code",
   "execution_count": 29,
   "metadata": {},
   "outputs": [
    {
     "name": "stdout",
     "output_type": "stream",
     "text": [
      "epoch: 1, iter: 10, loss: 0.657\n",
      "epoch: 1, iter: 20, loss: 0.116\n",
      "epoch: 1, iter: 30, loss: 0.025\n",
      "epoch: 1, iter: 40, loss: 0.015\n",
      "epoch: 1, iter: 50, loss: 0.015\n",
      "epoch: 1, iter: 60, loss: 0.008\n",
      "epoch: 1, iter: 70, loss: 0.008\n",
      "epoch: 1, iter: 80, loss: 0.006\n",
      "epoch: 1, iter: 90, loss: 0.006\n",
      "1 epoch processed...\n",
      "epoch: 2, iter: 10, loss: 0.005\n",
      "epoch: 2, iter: 20, loss: 0.005\n",
      "epoch: 2, iter: 30, loss: 0.006\n",
      "epoch: 2, iter: 40, loss: 0.005\n",
      "epoch: 2, iter: 50, loss: 0.004\n",
      "epoch: 2, iter: 60, loss: 0.004\n",
      "epoch: 2, iter: 70, loss: 0.006\n",
      "epoch: 2, iter: 80, loss: 0.005\n",
      "epoch: 2, iter: 90, loss: 0.006\n",
      "2 epoch processed...\n",
      "epoch: 3, iter: 10, loss: 0.004\n",
      "epoch: 3, iter: 20, loss: 0.004\n",
      "epoch: 3, iter: 30, loss: 0.005\n",
      "epoch: 3, iter: 40, loss: 0.004\n",
      "epoch: 3, iter: 50, loss: 0.004\n",
      "epoch: 3, iter: 60, loss: 0.004\n",
      "epoch: 3, iter: 70, loss: 0.003\n",
      "epoch: 3, iter: 80, loss: 0.003\n",
      "epoch: 3, iter: 90, loss: 0.003\n",
      "3 epoch processed...\n",
      "epoch: 4, iter: 10, loss: 0.002\n",
      "epoch: 4, iter: 20, loss: 0.003\n",
      "epoch: 4, iter: 30, loss: 0.003\n",
      "epoch: 4, iter: 40, loss: 0.003\n",
      "epoch: 4, iter: 50, loss: 0.002\n",
      "epoch: 4, iter: 60, loss: 0.003\n",
      "epoch: 4, iter: 70, loss: 0.003\n",
      "epoch: 4, iter: 80, loss: 0.003\n",
      "epoch: 4, iter: 90, loss: 0.002\n",
      "4 epoch processed...\n",
      "epoch: 5, iter: 10, loss: 0.003\n",
      "epoch: 5, iter: 20, loss: 0.002\n",
      "epoch: 5, iter: 30, loss: 0.002\n",
      "epoch: 5, iter: 40, loss: 0.002\n",
      "epoch: 5, iter: 50, loss: 0.003\n",
      "epoch: 5, iter: 60, loss: 0.002\n",
      "epoch: 5, iter: 70, loss: 0.002\n",
      "epoch: 5, iter: 80, loss: 0.002\n",
      "epoch: 5, iter: 90, loss: 0.002\n",
      "5 epoch processed...\n",
      "epoch: 6, iter: 10, loss: 0.002\n",
      "epoch: 6, iter: 20, loss: 0.002\n",
      "epoch: 6, iter: 30, loss: 0.002\n",
      "epoch: 6, iter: 40, loss: 0.002\n",
      "epoch: 6, iter: 50, loss: 0.002\n",
      "epoch: 6, iter: 60, loss: 0.002\n",
      "epoch: 6, iter: 70, loss: 0.001\n",
      "epoch: 6, iter: 80, loss: 0.002\n",
      "epoch: 6, iter: 90, loss: 0.002\n",
      "6 epoch processed...\n",
      "epoch: 7, iter: 10, loss: 0.002\n",
      "epoch: 7, iter: 20, loss: 0.002\n",
      "epoch: 7, iter: 30, loss: 0.002\n",
      "epoch: 7, iter: 40, loss: 0.001\n",
      "epoch: 7, iter: 50, loss: 0.002\n",
      "epoch: 7, iter: 60, loss: 0.002\n",
      "epoch: 7, iter: 70, loss: 0.002\n",
      "epoch: 7, iter: 80, loss: 0.001\n",
      "epoch: 7, iter: 90, loss: 0.002\n",
      "7 epoch processed...\n",
      "epoch: 8, iter: 10, loss: 0.002\n",
      "epoch: 8, iter: 20, loss: 0.001\n",
      "epoch: 8, iter: 30, loss: 0.001\n",
      "epoch: 8, iter: 40, loss: 0.001\n",
      "epoch: 8, iter: 50, loss: 0.001\n",
      "epoch: 8, iter: 60, loss: 0.001\n",
      "epoch: 8, iter: 70, loss: 0.001\n",
      "epoch: 8, iter: 80, loss: 0.002\n",
      "epoch: 8, iter: 90, loss: 0.001\n",
      "8 epoch processed...\n",
      "epoch: 9, iter: 10, loss: 0.001\n",
      "epoch: 9, iter: 20, loss: 0.001\n",
      "epoch: 9, iter: 30, loss: 0.001\n",
      "epoch: 9, iter: 40, loss: 0.001\n",
      "epoch: 9, iter: 50, loss: 0.001\n",
      "epoch: 9, iter: 60, loss: 0.001\n",
      "epoch: 9, iter: 70, loss: 0.001\n",
      "epoch: 9, iter: 80, loss: 0.001\n",
      "epoch: 9, iter: 90, loss: 0.001\n",
      "9 epoch processed...\n",
      "epoch: 10, iter: 10, loss: 0.001\n",
      "epoch: 10, iter: 20, loss: 0.001\n",
      "epoch: 10, iter: 30, loss: 0.001\n",
      "epoch: 10, iter: 40, loss: 0.001\n",
      "epoch: 10, iter: 50, loss: 0.001\n",
      "epoch: 10, iter: 60, loss: 0.001\n",
      "epoch: 10, iter: 70, loss: 0.001\n",
      "epoch: 10, iter: 80, loss: 0.001\n",
      "epoch: 10, iter: 90, loss: 0.001\n",
      "10 epoch processed...\n",
      "Finished Training\n"
     ]
    }
   ],
   "source": [
    "# 여러 epoch을 반복하며 NN 모델 학습\n",
    "\n",
    "for epoch in range(num_epochs):\n",
    "\n",
    "    running_loss = 0.0\n",
    "    for i, data in enumerate(trainloader):\n",
    "        # get the inputs; data is a list of [inputs, labels]\n",
    "        inputs, labels = data\n",
    "\n",
    "        # zero the parameter gradients\n",
    "        optimizer.zero_grad()\n",
    "\n",
    "        # forward + backward + optimize\n",
    "        outputs = net(inputs)\n",
    "        loss = criterion(outputs, labels)\n",
    "        loss.backward()\n",
    "        optimizer.step()\n",
    "\n",
    "        # print statistics\n",
    "        running_loss += loss.item()\n",
    "        \n",
    "        if i % 10 == 0:\n",
    "            if i > 0:\n",
    "                print('epoch: %d, iter: %d, loss: %.3f'%((epoch+1), i, running_loss/10))\n",
    "                running_loss = 0.0\n",
    "\n",
    "    print('%d epoch processed...'%(epoch+1))\n",
    "\n",
    "print('Finished Training')"
   ]
  },
  {
   "cell_type": "code",
   "execution_count": 30,
   "metadata": {},
   "outputs": [],
   "source": [
    "# 학습된 모델 저장하기\n",
    "\n",
    "PATH = './bikesharing_fnnet.pth'\n",
    "torch.save(net.state_dict(), PATH)"
   ]
  },
  {
   "cell_type": "code",
   "execution_count": 31,
   "metadata": {},
   "outputs": [
    {
     "data": {
      "text/plain": [
       "<All keys matched successfully>"
      ]
     },
     "execution_count": 31,
     "metadata": {},
     "output_type": "execute_result"
    }
   ],
   "source": [
    "# 저장된 모델의 Parameter 불러오기\n",
    "\n",
    "net = NeuralNetwork()\n",
    "net.load_state_dict(torch.load(PATH))"
   ]
  },
  {
   "attachments": {},
   "cell_type": "markdown",
   "metadata": {},
   "source": [
    "## 5. Test the Network on the Test Data"
   ]
  },
  {
   "cell_type": "code",
   "execution_count": 59,
   "metadata": {},
   "outputs": [
    {
     "name": "stdout",
     "output_type": "stream",
     "text": [
      "RMSE of the network on the test dataset: 6.149031688562239\n",
      "R2 of the network on the test dataset: 0.9988399694094672\n"
     ]
    }
   ],
   "source": [
    "# 전체 test set에 대한 accuracy\n",
    "\n",
    "pred_list = []\n",
    "labels_list = []\n",
    "\n",
    "# 모델 학습을 종료하였으므로 gradient 계산을 할 필요가 없음\n",
    "with torch.no_grad():\n",
    "    for data in testloader:\n",
    "        inputs, labels = data\n",
    "        \n",
    "        # 샘플 데이터 포인트에 대한 model output 출력\n",
    "        outputs = net(inputs)\n",
    "\n",
    "        # label 과의 스케일을 맞추기 위한 역스케일링\n",
    "        outputs = scalerY.inverse_transform(outputs)\n",
    "        \n",
    "        # 예측 결과 형태 수정\n",
    "        pred = np.squeeze(outputs, axis =-1)\n",
    "        labels = np.squeeze(labels, axis =-1)\n",
    "        \n",
    "        pred_list.append(pred)\n",
    "        labels_list.append(labels)\n",
    "        \n",
    "\n",
    "pred_list = np.hstack(pred_list)\n",
    "labels_list = np.hstack(labels_list)\n",
    "\n",
    "rmse = mean_squared_error(pred_list, labels_list)**0.5\n",
    "r2 = r2_score(pred_list, labels_list)\n",
    "print('RMSE of the network on the test dataset:', rmse)\n",
    "print('R2 of the network on the test dataset:', r2)"
   ]
  },
  {
   "cell_type": "code",
   "execution_count": 60,
   "metadata": {},
   "outputs": [
    {
     "data": {
      "image/png": "[encoded data removed]",
      "text/plain": [
       "<Figure size 640x480 with 1 Axes>"
      ]
     },
     "metadata": {},
     "output_type": "display_data"
    }
   ],
   "source": [
    "plt.scatter(pred_list, labels_list, c='red', s=10, alpha=0.3)\n",
    "plt.plot(np.arange(1000), np.arange(1000), c= 'black')\n",
    "plt.xlabel('prediction result')\n",
    "plt.ylabel('y label')\n",
    "plt.show()"
   ]
  },
  {
   "cell_type": "code",
   "execution_count": null,
   "metadata": {},
   "outputs": [],
   "source": []
  }
 ],
 "metadata": {
  "kernelspec": {
   "display_name": "fastcampus_torch",
   "language": "python",
   "name": "python3"
  },
  "language_info": {
   "codemirror_mode": {
    "name": "ipython",
    "version": 3
   },
   "file_extension": ".py",
   "mimetype": "text/x-python",
   "name": "python",
   "nbconvert_exporter": "python",
   "pygments_lexer": "ipython3",
   "version": "3.8.16"
  },
  "vscode": {
   "interpreter": {
    "hash": "38349969c5a35fc145d3eb76abcd52d109b3752c06b8be4f70b701e6a0425b3b"
   }
  }
 },
 "nbformat": 4,
 "nbformat_minor": 4
}
