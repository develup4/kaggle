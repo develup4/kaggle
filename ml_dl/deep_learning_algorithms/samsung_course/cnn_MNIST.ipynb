{
 "cells": [
  {
   "attachments": {},
   "cell_type": "markdown",
   "metadata": {},
   "source": [
    "# 이미지 분류기 구축"
   ]
  },
  {
   "attachments": {},
   "cell_type": "markdown",
   "metadata": {},
   "source": [
    "## Dataset: MNIST"
   ]
  },
  {
   "attachments": {},
   "cell_type": "markdown",
   "metadata": {},
   "source": [
    "### 이미지 크기: 28x28 (Gray-scale images of 28x28 pixels)"
   ]
  },
  {
   "attachments": {},
   "cell_type": "markdown",
   "metadata": {},
   "source": [
    "## 1. Load MNIST"
   ]
  },
  {
   "cell_type": "code",
   "execution_count": 1,
   "metadata": {},
   "outputs": [],
   "source": [
    "import torch\n",
    "import torchvision\n",
    "from torchvision import datasets\n",
    "from torchvision.transforms import ToTensor\n",
    "from matplotlib import pyplot as plt"
   ]
  },
  {
   "cell_type": "code",
   "execution_count": 4,
   "metadata": {},
   "outputs": [],
   "source": [
    "# MNIST 데이터셋 불러오기\n",
    "\n",
    "training_data = datasets.MNIST(\n",
    "    root=\"data\",\n",
    "    train=True,\n",
    "    download=True,\n",
    "    transform=ToTensor()\n",
    ")\n",
    "\n",
    "test_data = datasets.MNIST(\n",
    "    root=\"data\",\n",
    "    train=False,\n",
    "    download=True,\n",
    "    transform=ToTensor()\n",
    ")"
   ]
  },
  {
   "cell_type": "code",
   "execution_count": 5,
   "metadata": {},
   "outputs": [],
   "source": [
    "# DataLoader (cpu 환경이므로 batch size를 예외적으로 작게 설정)\n",
    "\n",
    "batch_size = 4\n",
    "\n",
    "# 학습 반복 동안 mini-batch의 구성이 계속해서 달라지도록 shuffle=True로 설정\n",
    "trainloader = torch.utils.data.DataLoader(training_data, batch_size=batch_size,\n",
    "                                          shuffle=True)\n",
    "\n",
    "# Test 시에는 mini-batch 구성의 순서가 상관없으므로 shuffle=False로 설정\n",
    "testloader = torch.utils.data.DataLoader(test_data, batch_size=batch_size,\n",
    "                                         shuffle=False)"
   ]
  },
  {
   "cell_type": "code",
   "execution_count": 6,
   "metadata": {},
   "outputs": [
    {
     "data": {
      "image/png": "[encoded data removed]",
      "text/plain": [
       "<Figure size 800x800 with 9 Axes>"
      ]
     },
     "metadata": {},
     "output_type": "display_data"
    }
   ],
   "source": [
    "\n",
    "# 데이터 시각화 해보기\n",
    "\n",
    "labels_map = {\n",
    "    0: \"0\",\n",
    "    1: \"1\",\n",
    "    2: \"2\",\n",
    "    3: \"3\",\n",
    "    4: \"4\",\n",
    "    5: \"5\",\n",
    "    6: \"6\",\n",
    "    7: \"7\",\n",
    "    8: \"8\",\n",
    "    9: \"9\",\n",
    "}\n",
    "figure = plt.figure(figsize=(8, 8))\n",
    "cols, rows = 3, 3\n",
    "for i in range(1, cols * rows + 1):\n",
    "    sample_idx = torch.randint(len(training_data), size=(1,)).item()\n",
    "    img, label = training_data[sample_idx]\n",
    "    figure.add_subplot(rows, cols, i)\n",
    "    plt.title(labels_map[label])\n",
    "    plt.axis(\"off\")\n",
    "    plt.imshow(img.squeeze(), cmap=\"gray\")\n",
    "plt.show()"
   ]
  },
  {
   "cell_type": "code",
   "execution_count": 7,
   "metadata": {},
   "outputs": [
    {
     "name": "stdout",
     "output_type": "stream",
     "text": [
      "shape of image: torch.Size([1, 28, 28])\n",
      "label: 5\n"
     ]
    },
    {
     "data": {
      "text/plain": [
       "<matplotlib.image.AxesImage at 0x148037a90>"
      ]
     },
     "execution_count": 7,
     "metadata": {},
     "output_type": "execute_result"
    },
    {
     "data": {
      "image/png": "[encoded data removed]",
      "text/plain": [
       "<Figure size 640x480 with 1 Axes>"
      ]
     },
     "metadata": {},
     "output_type": "display_data"
    }
   ],
   "source": [
    "# 이미지 shape와 출력 예시 확인\n",
    "\n",
    "img, label = trainloader.dataset[0]\n",
    "print('shape of image:', img.shape)\n",
    "print('label:', label)\n",
    "plt.imshow(img.squeeze(), cmap=\"gray\")"
   ]
  },
  {
   "attachments": {},
   "cell_type": "markdown",
   "metadata": {},
   "source": [
    "## 2. Define a Convolutional Neural Network"
   ]
  },
  {
   "cell_type": "code",
   "execution_count": 8,
   "metadata": {},
   "outputs": [],
   "source": [
    "# 모델 정의\n",
    "\n",
    "import torch.nn as nn\n",
    "\n",
    "\n",
    "class Net(nn.Module):\n",
    "    def __init__(self):\n",
    "        super().__init__()\n",
    "        \n",
    "        # Convolution 함수 정의\n",
    "        self.conv1 = nn.Conv2d(in_channels=1, out_channels=6, kernel_size=3)\n",
    "        self.conv2 = nn.Conv2d(in_channels=6, out_channels=8, kernel_size=3)\n",
    "\n",
    "        # nonlinearity - ReLU 함수 정의\n",
    "        self.relu = nn.ReLU()\n",
    "\n",
    "        # Pooling 함수 정의\n",
    "        self.pool = nn.MaxPool2d(kernel_size=2, stride=2)\n",
    "\n",
    "        # fully-connected layer 함수 정의\n",
    "        self.fc1 = nn.Linear(8 * 5 * 5, 64)\n",
    "        self.fc2 = nn.Linear(64, 64)\n",
    "        self.fc3 = nn.Linear(64, 10)\n",
    "        \n",
    "\n",
    "    def forward(self, x):\n",
    "        #Conv layer 1\n",
    "        x = self.conv1(x)\n",
    "        x = self.relu(x)\n",
    "        x = self.pool(x)\n",
    "\n",
    "        #Conv layer 2\n",
    "        x = self.conv2(x)\n",
    "        x = self.relu(x)\n",
    "        x = self.pool(x)\n",
    "\n",
    "        # flatten all dimensions except batch\n",
    "        x = torch.flatten(x, 1)\n",
    "\n",
    "        # fully-connected layers\n",
    "        x = self.fc1(x)\n",
    "        x = self.relu(x)\n",
    "        x = self.fc2(x)\n",
    "        x = self.relu(x)\n",
    "        x = self.fc3(x)\n",
    "\n",
    "        return x\n",
    "\n",
    "\n",
    "net = Net()"
   ]
  },
  {
   "attachments": {},
   "cell_type": "markdown",
   "metadata": {},
   "source": [
    "## 3. Define a Loss Function and Optimizer"
   ]
  },
  {
   "cell_type": "code",
   "execution_count": 9,
   "metadata": {},
   "outputs": [],
   "source": [
    "# hyperparameter 설정\n",
    "\n",
    "learning_rate = 1e-3\n",
    "num_epochs = 5"
   ]
  },
  {
   "cell_type": "code",
   "execution_count": 10,
   "metadata": {},
   "outputs": [],
   "source": [
    "# loss function 및 optimizer 설정\n",
    "\n",
    "import torch.optim as optim\n",
    "\n",
    "criterion = nn.CrossEntropyLoss()\n",
    "optimizer = optim.Adam(net.parameters(), lr=learning_rate)"
   ]
  },
  {
   "attachments": {},
   "cell_type": "markdown",
   "metadata": {},
   "source": [
    "## 4. Train the Network"
   ]
  },
  {
   "cell_type": "code",
   "execution_count": 11,
   "metadata": {},
   "outputs": [
    {
     "name": "stdout",
     "output_type": "stream",
     "text": [
      "epoch: 1, iter: 1000, loss: 0.885\n",
      "epoch: 1, iter: 2000, loss: 0.293\n",
      "epoch: 1, iter: 3000, loss: 0.210\n",
      "epoch: 1, iter: 4000, loss: 0.178\n",
      "epoch: 1, iter: 5000, loss: 0.164\n",
      "epoch: 1, iter: 6000, loss: 0.156\n",
      "epoch: 1, iter: 7000, loss: 0.138\n",
      "epoch: 1, iter: 8000, loss: 0.127\n",
      "epoch: 1, iter: 9000, loss: 0.123\n",
      "epoch: 1, iter: 10000, loss: 0.128\n",
      "epoch: 1, iter: 11000, loss: 0.109\n",
      "epoch: 1, iter: 12000, loss: 0.105\n",
      "epoch: 1, iter: 13000, loss: 0.107\n",
      "epoch: 1, iter: 14000, loss: 0.110\n",
      "1 epoch processed...\n",
      "epoch: 2, iter: 1000, loss: 0.083\n",
      "epoch: 2, iter: 2000, loss: 0.082\n",
      "epoch: 2, iter: 3000, loss: 0.092\n",
      "epoch: 2, iter: 4000, loss: 0.083\n",
      "epoch: 2, iter: 5000, loss: 0.098\n",
      "epoch: 2, iter: 6000, loss: 0.090\n",
      "epoch: 2, iter: 7000, loss: 0.075\n",
      "epoch: 2, iter: 8000, loss: 0.072\n",
      "epoch: 2, iter: 9000, loss: 0.077\n",
      "epoch: 2, iter: 10000, loss: 0.076\n",
      "epoch: 2, iter: 11000, loss: 0.088\n",
      "epoch: 2, iter: 12000, loss: 0.074\n",
      "epoch: 2, iter: 13000, loss: 0.074\n",
      "epoch: 2, iter: 14000, loss: 0.075\n",
      "2 epoch processed...\n",
      "epoch: 3, iter: 1000, loss: 0.062\n",
      "epoch: 3, iter: 2000, loss: 0.069\n",
      "epoch: 3, iter: 3000, loss: 0.053\n",
      "epoch: 3, iter: 4000, loss: 0.053\n",
      "epoch: 3, iter: 5000, loss: 0.057\n",
      "epoch: 3, iter: 6000, loss: 0.061\n",
      "epoch: 3, iter: 7000, loss: 0.061\n",
      "epoch: 3, iter: 8000, loss: 0.070\n",
      "epoch: 3, iter: 9000, loss: 0.060\n",
      "epoch: 3, iter: 10000, loss: 0.070\n",
      "epoch: 3, iter: 11000, loss: 0.061\n",
      "epoch: 3, iter: 12000, loss: 0.050\n",
      "epoch: 3, iter: 13000, loss: 0.072\n",
      "epoch: 3, iter: 14000, loss: 0.061\n",
      "3 epoch processed...\n",
      "epoch: 4, iter: 1000, loss: 0.053\n",
      "epoch: 4, iter: 2000, loss: 0.053\n",
      "epoch: 4, iter: 3000, loss: 0.055\n",
      "epoch: 4, iter: 4000, loss: 0.058\n",
      "epoch: 4, iter: 5000, loss: 0.045\n",
      "epoch: 4, iter: 6000, loss: 0.039\n",
      "epoch: 4, iter: 7000, loss: 0.060\n",
      "epoch: 4, iter: 8000, loss: 0.047\n",
      "epoch: 4, iter: 9000, loss: 0.057\n",
      "epoch: 4, iter: 10000, loss: 0.053\n",
      "epoch: 4, iter: 11000, loss: 0.054\n",
      "epoch: 4, iter: 12000, loss: 0.045\n",
      "epoch: 4, iter: 13000, loss: 0.054\n",
      "epoch: 4, iter: 14000, loss: 0.050\n",
      "4 epoch processed...\n",
      "epoch: 5, iter: 1000, loss: 0.044\n",
      "epoch: 5, iter: 2000, loss: 0.038\n",
      "epoch: 5, iter: 3000, loss: 0.046\n",
      "epoch: 5, iter: 4000, loss: 0.041\n",
      "epoch: 5, iter: 5000, loss: 0.050\n",
      "epoch: 5, iter: 6000, loss: 0.051\n",
      "epoch: 5, iter: 7000, loss: 0.042\n",
      "epoch: 5, iter: 8000, loss: 0.037\n",
      "epoch: 5, iter: 9000, loss: 0.054\n",
      "epoch: 5, iter: 10000, loss: 0.051\n",
      "epoch: 5, iter: 11000, loss: 0.049\n",
      "epoch: 5, iter: 12000, loss: 0.054\n",
      "epoch: 5, iter: 13000, loss: 0.037\n",
      "epoch: 5, iter: 14000, loss: 0.034\n",
      "5 epoch processed...\n",
      "Finished Training\n"
     ]
    }
   ],
   "source": [
    "# 여러 epoch을 반복하며 CNN 모델 학습\n",
    "\n",
    "for epoch in range(num_epochs):\n",
    "\n",
    "    running_loss = 0.0\n",
    "    for i, data in enumerate(trainloader):\n",
    "        # get the inputs; data is a list of [inputs, labels]\n",
    "        inputs, labels = data\n",
    "\n",
    "        # zero the parameter gradients\n",
    "        optimizer.zero_grad()\n",
    "\n",
    "        # forward + backward + optimize\n",
    "        outputs = net(inputs)\n",
    "        loss = criterion(outputs, labels)\n",
    "        loss.backward()\n",
    "        optimizer.step()\n",
    "\n",
    "        # print statistics\n",
    "        running_loss += loss.item()\n",
    "        \n",
    "        if i % 1000 == 0:\n",
    "            if i > 0:\n",
    "                print('epoch: %d, iter: %d, loss: %.3f'%((epoch+1), i, running_loss/1000))\n",
    "                running_loss = 0.0\n",
    "    \n",
    "    print('%d epoch processed...'%(epoch+1))\n",
    "\n",
    "print('Finished Training')"
   ]
  },
  {
   "cell_type": "code",
   "execution_count": 12,
   "metadata": {},
   "outputs": [],
   "source": [
    "# 학습된 모델 저장하기\n",
    "\n",
    "PATH = './mnist_convnet.pth'\n",
    "torch.save(net.state_dict(), PATH)"
   ]
  },
  {
   "cell_type": "code",
   "execution_count": 13,
   "metadata": {},
   "outputs": [
    {
     "data": {
      "text/plain": [
       "<All keys matched successfully>"
      ]
     },
     "execution_count": 13,
     "metadata": {},
     "output_type": "execute_result"
    }
   ],
   "source": [
    "# 저장된 모델의 Parameter 불러오기\n",
    "\n",
    "net = Net()\n",
    "net.load_state_dict(torch.load(PATH))"
   ]
  },
  {
   "attachments": {},
   "cell_type": "markdown",
   "metadata": {},
   "source": [
    "## 5. Test the Network on the Test Data"
   ]
  },
  {
   "cell_type": "code",
   "execution_count": 14,
   "metadata": {},
   "outputs": [],
   "source": [
    "from sklearn.metrics import accuracy_score\n",
    "import numpy as np"
   ]
  },
  {
   "cell_type": "code",
   "execution_count": 15,
   "metadata": {},
   "outputs": [
    {
     "name": "stdout",
     "output_type": "stream",
     "text": [
      "Accuracy of the network on the 10000 test images: 0.9869\n"
     ]
    }
   ],
   "source": [
    "# 전체 test set에 대한 accuracy\n",
    "\n",
    "pred_list = []\n",
    "labels_list = []\n",
    "\n",
    "# 모델 학습을 종료하였으므로 gradient 계산을 할 필요가 없음\n",
    "with torch.no_grad():\n",
    "    for data in testloader:\n",
    "        images, labels = data\n",
    "        \n",
    "        # 샘플 이미지에 대한 model output 출력\n",
    "        outputs = net(images)\n",
    "        \n",
    "        # model output에 기반한 예측 결과 출력\n",
    "        pred = outputs.argmax(1)\n",
    "\n",
    "        \n",
    "        pred_list.append(pred)\n",
    "        labels_list.append(labels)\n",
    "\n",
    "\n",
    "pred_list = np.hstack(pred_list)\n",
    "labels_list = np.hstack(labels_list)\n",
    "\n",
    "acc = accuracy_score(pred_list, labels_list)\n",
    "\n",
    "print('Accuracy of the network on the 10000 test images:', acc)"
   ]
  },
  {
   "cell_type": "code",
   "execution_count": 16,
   "metadata": {},
   "outputs": [
    {
     "data": {
      "image/png": "[encoded data removed]",
      "text/plain": [
       "<Figure size 640x480 with 1 Axes>"
      ]
     },
     "metadata": {},
     "output_type": "display_data"
    },
    {
     "name": "stdout",
     "output_type": "stream",
     "text": [
      "Ground Truth: ['7', '2', '1', '0']\n"
     ]
    }
   ],
   "source": [
    "# Test set 샘플 이미지 출력해보기\n",
    "\n",
    "# batch size 만큼의 이미지 샘플 추출\n",
    "dataiter = iter(testloader)\n",
    "images, labels = next(dataiter)\n",
    "\n",
    "\n",
    "# print images\n",
    "def imshow(img):\n",
    "    img = img / 2 + 0.5     # unnormalize\n",
    "    npimg = img.numpy()\n",
    "    plt.imshow(np.transpose(npimg, (1, 2, 0)))\n",
    "    plt.show()\n",
    "\n",
    "    \n",
    "imshow(torchvision.utils.make_grid(images))\n",
    "\n",
    "\n",
    "ground_truth_list = []\n",
    "for label in labels:\n",
    "    true_label = labels_map[label.item()]\n",
    "    ground_truth_list.append(true_label)\n",
    "\n",
    "print('Ground Truth:', ground_truth_list)"
   ]
  },
  {
   "cell_type": "code",
   "execution_count": 17,
   "metadata": {},
   "outputs": [
    {
     "data": {
      "text/plain": [
       "torch.Size([4])"
      ]
     },
     "execution_count": 17,
     "metadata": {},
     "output_type": "execute_result"
    }
   ],
   "source": [
    "labels.shape"
   ]
  },
  {
   "cell_type": "code",
   "execution_count": 18,
   "metadata": {},
   "outputs": [
    {
     "data": {
      "text/plain": [
       "tensor([7, 2, 1, 0])"
      ]
     },
     "execution_count": 18,
     "metadata": {},
     "output_type": "execute_result"
    }
   ],
   "source": [
    "labels"
   ]
  },
  {
   "cell_type": "code",
   "execution_count": 19,
   "metadata": {},
   "outputs": [
    {
     "name": "stdout",
     "output_type": "stream",
     "text": [
      "Predicted:  ['7', '2', '1', '0']\n"
     ]
    }
   ],
   "source": [
    "# 샘플에 대한 예측 수행 후 실제 값과 일치하는 지 비교해보기\n",
    "\n",
    "outputs = net(images)\n",
    "\n",
    "preds = outputs.argmax(1)\n",
    "\n",
    "pred_label_list = []\n",
    "for pred in preds:\n",
    "    pred_label = labels_map[pred.item()]\n",
    "    pred_label_list.append(pred_label)\n",
    "\n",
    "print('Predicted: ', pred_label_list)"
   ]
  }
 ],
 "metadata": {
  "kernelspec": {
   "display_name": "fastcampus_torch",
   "language": "python",
   "name": "python3"
  },
  "language_info": {
   "codemirror_mode": {
    "name": "ipython",
    "version": 3
   },
   "file_extension": ".py",
   "mimetype": "text/x-python",
   "name": "python",
   "nbconvert_exporter": "python",
   "pygments_lexer": "ipython3",
   "version": "3.9.12"
  },
  "orig_nbformat": 4,
  "vscode": {
   "interpreter": {
    "hash": "38349969c5a35fc145d3eb76abcd52d109b3752c06b8be4f70b701e6a0425b3b"
   }
  }
 },
 "nbformat": 4,
 "nbformat_minor": 2
}
